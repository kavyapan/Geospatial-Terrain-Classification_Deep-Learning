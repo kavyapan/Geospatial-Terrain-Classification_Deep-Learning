{
  "cells": [
    {
      "cell_type": "markdown",
      "id": "13d55ac0-625a-4bb2-adb4-62094ba62248",
      "metadata": {
        "id": "13d55ac0-625a-4bb2-adb4-62094ba62248"
      },
      "source": [
        "# **Overview**\n",
        "The objective of this project is to create a deep learning based land clutter identification model using EuroSAT Satellite Imagery.\n",
        "\n",
        "**About Dataset**\n",
        "Using RGB satellite images from [EuroSAT: A Novel Dataset and Deep Learning Benchmark for Land Classification](https://zenodo.org/record/7711810#.ZCtEhOzMJQK).\n",
        "This dataset contains 27,000 RGB Satellite Images across 10 classes:\n",
        "- Annual Crop\n",
        "- Forest\n",
        "- Herbaceous Vegetation\n",
        "- Highway\n",
        "- Industrial\n",
        "- Pasture\n",
        "- Permanent Crop\n",
        "- Residential\n",
        "- River\n",
        "- Sea or Lake\n",
        "\n",
        "There are about 2,500 images per class."
      ]
    },
    {
      "cell_type": "markdown",
      "id": "07f7bc09-146a-4a0e-b0c7-b10dabc5a56c",
      "metadata": {
        "id": "07f7bc09-146a-4a0e-b0c7-b10dabc5a56c"
      },
      "source": [
        "# Importing Libraries/Modules"
      ]
    },
    {
      "cell_type": "code",
      "execution_count": 1,
      "id": "9e4aa211-0dd6-4ab5-9702-09e5a59b42fc",
      "metadata": {
        "id": "9e4aa211-0dd6-4ab5-9702-09e5a59b42fc"
      },
      "outputs": [],
      "source": [
        "import numpy as np\n",
        "import pandas as pd\n",
        "\n",
        "import os\n",
        "import shutil\n",
        "\n",
        "from PIL import Image, ImageOps\n",
        "\n",
        "import seaborn as sns\n",
        "from matplotlib import pyplot as plt\n",
        "\n",
        "from sklearn.metrics import confusion_matrix, multilabel_confusion_matrix, classification_report, ConfusionMatrixDisplay\n",
        "\n",
        "import tensorflow as tf\n",
        "from tensorflow import keras\n",
        "from tensorflow.keras.preprocessing.image import ImageDataGenerator, array_to_img\n",
        "from tensorflow.keras import models, layers, optimizers, regularizers\n",
        "from tensorflow.keras.models import Sequential\n",
        "from tensorflow.keras.layers import Conv2D, MaxPooling2D, Flatten, Dense, Dropout\n",
        "from tensorflow.keras import Model\n",
        "from tensorflow.keras.callbacks import EarlyStopping, ModelCheckpoint\n",
        "from tensorflow.keras.utils import to_categorical\n",
        "\n",
        "import warnings\n",
        "warnings.filterwarnings('ignore')"
      ]
    },
    {
      "cell_type": "markdown",
      "source": [
        "## Data Processing"
      ],
      "metadata": {
        "id": "pz0ua8EvYVIj"
      },
      "id": "pz0ua8EvYVIj"
    },
    {
      "cell_type": "code",
      "execution_count": null,
      "id": "e6d3ec2c-c6e3-4236-896d-171bb45bffec",
      "metadata": {
        "id": "e6d3ec2c-c6e3-4236-896d-171bb45bffec"
      },
      "outputs": [],
      "source": [
        "# Path for all clutter types\n",
        "clutter_paths = {\n",
        "    'AnnualCrop': 'C:/Users/Kavya/Project/EuroSAT_RGB/AnnualCrop',\n",
        "    'Forest': 'C:/Users/Kavya/Project/EuroSAT_RGB/Forest',\n",
        "    'HerbaceousVegetation': 'C:/Users/Kavya/Project/EuroSAT_RGB/HerbaceousVegetation',\n",
        "    'Highway': 'C:/Users/Kavya/Project/EuroSAT_RGB/Highway',\n",
        "    'Industrial': 'C:/Users/Kavya/Project/EuroSAT_RGB/Industrial',\n",
        "    'Pasture': 'C:/Users/Kavya/Project/EuroSAT_RGB/Pasture',\n",
        "    'PermanentCrop': 'C:/Users/Kavya/Project/EuroSAT_RGB/PermanentCrop',\n",
        "    'Residential': 'C:/Users/Kavya/Project/EuroSAT_RGB/Residential',\n",
        "    'River': 'C:/Users/Kavya/Project/EuroSAT_RGB/River',\n",
        "    'SeaLake': 'C:/Users/Kavya/Project/EuroSAT_RGB/SeaLake'\n",
        "}"
      ]
    },
    {
      "cell_type": "code",
      "execution_count": null,
      "id": "1285f15d-7b36-4be7-9858-803c0f7ef95e",
      "metadata": {
        "id": "1285f15d-7b36-4be7-9858-803c0f7ef95e",
        "outputId": "feddf084-b81d-45c5-85c7-e93829425024"
      },
      "outputs": [
        {
          "name": "stdout",
          "output_type": "stream",
          "text": [
            "\n",
            "Object Lists:\n",
            "AnnualCrop: 3000 objects found\n",
            "Forest: 3000 objects found\n",
            "HerbaceousVegetation: 3000 objects found\n",
            "Highway: 2500 objects found\n",
            "Industrial: 2500 objects found\n",
            "Pasture: 2000 objects found\n",
            "PermanentCrop: 2500 objects found\n",
            "Residential: 3000 objects found\n",
            "River: 2500 objects found\n",
            "SeaLake: 3000 objects found\n"
          ]
        }
      ],
      "source": [
        "# Objects that will store all the relevant images\n",
        "objects = {}\n",
        "for category, path in clutter_paths.items():\n",
        "    objects[category] = [file for file in os.listdir(path) if file.endswith('.jpg')]\n",
        "\n",
        "# Unpack the dictionary into individual variables for object names\n",
        "for category, object_list in objects.items():\n",
        "    globals()[f\"obj_{category}\"] = object_list\n",
        "\n",
        "print(\"\\nObject Lists:\")\n",
        "for category, obj_list in objects.items():\n",
        "    print(f\"{category}: {len(obj_list)} objects found\")\n"
      ]
    },
    {
      "cell_type": "markdown",
      "id": "5f64bf08-4c6a-499c-9ddf-4d1ec70595c7",
      "metadata": {
        "id": "5f64bf08-4c6a-499c-9ddf-4d1ec70595c7"
      },
      "source": [
        "# Train and Test Split"
      ]
    },
    {
      "cell_type": "code",
      "execution_count": null,
      "id": "520184eb-68c6-4cbd-b810-32742235abec",
      "metadata": {
        "id": "520184eb-68c6-4cbd-b810-32742235abec",
        "outputId": "a34d08a5-c2af-4437-e79c-75aa6e10b92d"
      },
      "outputs": [
        {
          "name": "stdout",
          "output_type": "stream",
          "text": [
            "Train folder 'C:/Users/Kavya/Project/eurosat_data/split/train' created successfully!\n",
            "folder 'C:/Users/Kavya/Project/eurosat_data/split/train\\AnnualCrop' created successfully!\n",
            "folder 'C:/Users/Kavya/Project/eurosat_data/split/train\\Forest' created successfully!\n",
            "folder 'C:/Users/Kavya/Project/eurosat_data/split/train\\HerbaceousVegetation' created successfully!\n",
            "folder 'C:/Users/Kavya/Project/eurosat_data/split/train\\Highway' created successfully!\n",
            "folder 'C:/Users/Kavya/Project/eurosat_data/split/train\\Industrial' created successfully!\n",
            "folder 'C:/Users/Kavya/Project/eurosat_data/split/train\\Pasture' created successfully!\n",
            "folder 'C:/Users/Kavya/Project/eurosat_data/split/train\\PermanentCrop' created successfully!\n",
            "folder 'C:/Users/Kavya/Project/eurosat_data/split/train\\Residential' created successfully!\n",
            "folder 'C:/Users/Kavya/Project/eurosat_data/split/train\\River' created successfully!\n",
            "folder 'C:/Users/Kavya/Project/eurosat_data/split/train\\SeaLake' created successfully!\n"
          ]
        }
      ],
      "source": [
        "# Set up the Train folder and subfolders\n",
        "proj_dir = 'C:/Users/Kavya/Project/eurosat_data/split/'\n",
        "\n",
        "train_folder = os.path.join(proj_dir, 'train')\n",
        "\n",
        "# Create train subfolders with names like test_AnnualCrop, test_Forest, etc.\n",
        "train_folders = {f\"{category}\": os.path.join(train_folder, f\"{category}\") for category in clutter_paths}\n",
        "\n",
        "# Ensure that train_folder exists before creating subfolders\n",
        "if not os.path.exists(train_folder):\n",
        "    os.mkdir(train_folder)\n",
        "    print(f\"Train folder '{train_folder}' created successfully!\")\n",
        "else:\n",
        "    print(f\"Train folder '{train_folder}' already exists.\")\n",
        "\n",
        "# Create subfolders\n",
        "for category, folder_path in train_folders.items():\n",
        "    try:\n",
        "        os.mkdir(folder_path)\n",
        "        print(f\"folder '{folder_path}' created successfully!\")\n",
        "    except FileExistsError:\n",
        "        print(f\"folder '{folder_path}' already exists.\")"
      ]
    },
    {
      "cell_type": "code",
      "execution_count": null,
      "id": "989700b8-92fc-4368-bd72-5d33c6164e72",
      "metadata": {
        "id": "989700b8-92fc-4368-bd72-5d33c6164e72",
        "outputId": "18012db7-d2aa-4c18-f0a4-3deee2815832"
      },
      "outputs": [
        {
          "name": "stdout",
          "output_type": "stream",
          "text": [
            "Test folder 'C:/Users/Kavya/Project/eurosat_data/split/test' created successfully!\n",
            " folder 'C:/Users/Kavya/Project/eurosat_data/split/test\\AnnualCrop' created successfully!\n",
            " folder 'C:/Users/Kavya/Project/eurosat_data/split/test\\Forest' created successfully!\n",
            " folder 'C:/Users/Kavya/Project/eurosat_data/split/test\\HerbaceousVegetation' created successfully!\n",
            " folder 'C:/Users/Kavya/Project/eurosat_data/split/test\\Highway' created successfully!\n",
            " folder 'C:/Users/Kavya/Project/eurosat_data/split/test\\Industrial' created successfully!\n",
            " folder 'C:/Users/Kavya/Project/eurosat_data/split/test\\Pasture' created successfully!\n",
            " folder 'C:/Users/Kavya/Project/eurosat_data/split/test\\PermanentCrop' created successfully!\n",
            " folder 'C:/Users/Kavya/Project/eurosat_data/split/test\\Residential' created successfully!\n",
            " folder 'C:/Users/Kavya/Project/eurosat_data/split/test\\River' created successfully!\n",
            " folder 'C:/Users/Kavya/Project/eurosat_data/split/test\\SeaLake' created successfully!\n"
          ]
        }
      ],
      "source": [
        "test_folder = os.path.join(proj_dir, 'test')\n",
        "\n",
        "# Create train subfolders with names like test_AnnualCrop, test_Forest, etc.\n",
        "test_folders = {f\"{category}\": os.path.join(test_folder, f\"{category}\") for category in clutter_paths}\n",
        "\n",
        "# Ensure that train_folder exists before creating subfolders\n",
        "if not os.path.exists(test_folder):\n",
        "    os.mkdir(test_folder)\n",
        "    print(f\"Test folder '{test_folder}' created successfully!\")\n",
        "else:\n",
        "    print(f\"Test folder '{test_folder}' already exists.\")\n",
        "\n",
        "# Create subfolders\n",
        "for category, folder_path in test_folders.items():\n",
        "    try:\n",
        "        os.mkdir(folder_path)\n",
        "        print(f\" folder '{folder_path}' created successfully!\")\n",
        "    except FileExistsError:\n",
        "        print(f\" folder '{folder_path}' already exists.\")"
      ]
    },
    {
      "cell_type": "code",
      "execution_count": null,
      "id": "2f980b41-d701-45c0-8026-ea7a219911c1",
      "metadata": {
        "id": "2f980b41-d701-45c0-8026-ea7a219911c1"
      },
      "outputs": [],
      "source": [
        "# Defining a function to copy images from source to destination folder\n",
        "def copy_images(source_folder, destination_folder, image_list):\n",
        "    for img in image_list:\n",
        "        origin = os.path.join(source_folder, img)\n",
        "        destination = os.path.join(destination_folder, img)\n",
        "        shutil.copyfile(origin, destination)\n",
        "\n",
        "# Defining image counts for train and test sets\n",
        "train_counts = {\n",
        "    'AnnualCrop': 2400,\n",
        "    'Forest': 2400,\n",
        "    'HerbaceousVegetation': 2400,\n",
        "    'Highway': 2000,\n",
        "    'Industrial': 2000,\n",
        "    'Pasture': 1600,\n",
        "    'PermanentCrop': 2000,\n",
        "    'Residential': 2400,\n",
        "    'River': 2000,\n",
        "    'SeaLake': 2400\n",
        "}\n",
        "\n",
        "test_counts = {\n",
        "    'AnnualCrop': 600,\n",
        "    'Forest': 600,\n",
        "    'HerbaceousVegetation': 600,\n",
        "    'Highway': 500,\n",
        "    'Industrial': 500,\n",
        "    'Pasture': 400,\n",
        "    'PermanentCrop': 500,\n",
        "    'Residential': 600,\n",
        "    'River': 500,\n",
        "    'SeaLake': 600\n",
        "}\n",
        "data_folder = 'C:/Users/Kavya/Project/EuroSAT_RGB/'\n",
        "\n",
        "# Copying images for train set\n",
        "for category, count in train_counts.items():\n",
        "    imgs = os.listdir(os.path.join(data_folder, category))[:count]\n",
        "    copy_images(os.path.join(data_folder, category), os.path.join(train_folder, category), imgs)\n",
        "\n",
        "# Copying images for test set\n",
        "for category, count in test_counts.items():\n",
        "    imgs = os.listdir(os.path.join(data_folder, category))[train_counts[category]:train_counts[category]+count]\n",
        "    copy_images(os.path.join(data_folder, category), os.path.join(test_folder, category), imgs)\n"
      ]
    },
    {
      "cell_type": "code",
      "execution_count": null,
      "id": "bc7dd996-28d2-4a31-9f3f-d256a37cf589",
      "metadata": {
        "id": "bc7dd996-28d2-4a31-9f3f-d256a37cf589",
        "outputId": "b037f4b4-b5e8-4b7a-b23e-82aa2e309d49"
      },
      "outputs": [
        {
          "name": "stdout",
          "output_type": "stream",
          "text": [
            "Found 18360 images belonging to 10 classes.\n",
            "Found 3240 images belonging to 10 classes.\n",
            "Found 5400 images belonging to 10 classes.\n"
          ]
        }
      ],
      "source": [
        "train_folder = 'C:/Users/Kavya/Project/eurosat_data/split/train'\n",
        "\n",
        "test_folder = 'C:/Users/Kavya/Project/eurosat_data/split/test'\n",
        "\n",
        "# Normalize images\n",
        "train_gen = ImageDataGenerator(rescale=1./255, validation_split = 0.15)\n",
        "test_gen = ImageDataGenerator(rescale=1./255)\n",
        "\n",
        "#Importing data - 65% Train, 15% Validation and 20% Test\n",
        "train_generator = train_gen.flow_from_directory(train_folder,class_mode = 'categorical', subset ='training', batch_size=128,shuffle=True,seed=42)\n",
        "\n",
        "val_generator= train_gen.flow_from_directory(train_folder,class_mode= 'categorical',subset = \"validation\",batch_size=128,shuffle=True,seed=42)\n",
        "\n",
        "test_generator= test_gen.flow_from_directory(test_folder,class_mode= 'categorical',batch_size=128,shuffle=False, seed=42)\n",
        "\n",
        "# Creating final datasets\n",
        "\n",
        "train_images, train_labels = next(train_generator)\n",
        "test_images, test_labels = next(test_generator)\n",
        "val_images, val_labels = next(val_generator)"
      ]
    },
    {
      "cell_type": "markdown",
      "id": "5d696532-1281-4ac6-8c55-32ed5253f78c",
      "metadata": {
        "id": "5d696532-1281-4ac6-8c55-32ed5253f78c"
      },
      "source": [
        "# Data Exploration"
      ]
    },
    {
      "cell_type": "code",
      "execution_count": null,
      "id": "3e0fbcb1-9694-48a2-8a20-f7f46e505899",
      "metadata": {
        "id": "3e0fbcb1-9694-48a2-8a20-f7f46e505899"
      },
      "outputs": [],
      "source": [
        "# Confirm class balance for train and test\n",
        "train_classes = train_generator.classes\n",
        "val_classes = val_generator.classes\n",
        "test_classes = test_generator.classes\n",
        "\n",
        "# Look at image distribution by class across train, test, and validation sets\n",
        "train_class_counts = dict(zip(*np.unique(train_classes, return_counts=True)))\n",
        "val_class_counts = dict(zip(*np.unique(val_classes, return_counts=True)))\n",
        "test_class_counts = dict(zip(*np.unique(test_classes, return_counts=True)))\n",
        "\n",
        "# Data\n",
        "class_names = list(train_generator.class_indices.keys())\n",
        "classes = list(train_class_counts.keys())\n",
        "train_counts = list(train_class_counts.values())\n",
        "val_counts = list(val_class_counts.values())\n",
        "test_counts = list(test_class_counts.values())\n"
      ]
    },
    {
      "cell_type": "code",
      "execution_count": null,
      "id": "e6f1ede5-881f-4307-b7c2-3a1a1be32c0d",
      "metadata": {
        "id": "e6f1ede5-881f-4307-b7c2-3a1a1be32c0d",
        "outputId": "6db585c5-d04f-4eb6-ec1f-948b87be647d"
      },
      "outputs": [
        {
          "data": {
            "image/png": "[encoded data removed]",
            "text/plain": [
              "<Figure size 1000x500 with 1 Axes>"
            ]
          },
          "metadata": {},
          "output_type": "display_data"
        }
      ],
      "source": [
        "# Plot\n",
        "plt.figure(figsize=(10, 5))\n",
        "bar_width = 0.25\n",
        "index = range(len(classes))\n",
        "\n",
        "plt.bar(index, train_counts, bar_width, label='Train', alpha=0.7)\n",
        "plt.bar([i + bar_width for i in index], val_counts, bar_width, label='Validation', alpha=0.7)\n",
        "plt.bar([i + 2 * bar_width for i in index], test_counts, bar_width, label='Test', alpha=0.7)\n",
        "\n",
        "plt.xlabel('Classes')\n",
        "plt.ylabel('Counts')\n",
        "plt.title('Class Distribution in Train, Validation, and Test Sets')\n",
        "plt.xticks([i + bar_width for i in index], class_names, rotation=45)\n",
        "plt.legend()\n",
        "plt.tight_layout()\n",
        "plt.show()"
      ]
    },
    {
      "cell_type": "code",
      "execution_count": null,
      "id": "f6c7c8c4-1581-4fa9-97a5-94a0e68bc96e",
      "metadata": {
        "id": "f6c7c8c4-1581-4fa9-97a5-94a0e68bc96e",
        "outputId": "41c07d10-e912-4146-d97e-0d2a6d13b79c"
      },
      "outputs": [
        {
          "data": {
            "image/png": "[encoded data removed]",
            "text/plain": [
              "<Figure size 800x400 with 10 Axes>"
            ]
          },
          "metadata": {},
          "output_type": "display_data"
        }
      ],
      "source": [
        "def display_sample_images(images, labels, classes, title):\n",
        "    plt.figure(figsize=(8, 4))\n",
        "    num_classes = len(classes)\n",
        "\n",
        "    for i in range(num_classes):\n",
        "        image_index = np.where(labels[:, i] == 1)[0][0]\n",
        "        plt.subplot(3, num_classes // 3 + 1, i + 1)\n",
        "        plt.imshow(images[image_index])\n",
        "        plt.title(class_names[i])\n",
        "        plt.axis('off')\n",
        "\n",
        "    plt.suptitle(title)\n",
        "    plt.tight_layout()\n",
        "    plt.show()\n",
        "\n",
        "display_sample_images(train_images, train_labels, class_names, 'Sample Images from Train Set')"
      ]
    },
    {
      "cell_type": "code",
      "execution_count": null,
      "id": "90135cfb-195d-4619-b7c5-8d89627aa480",
      "metadata": {
        "id": "90135cfb-195d-4619-b7c5-8d89627aa480",
        "outputId": "8f5cb391-90ba-4321-c6ba-5ff481fd4916"
      },
      "outputs": [
        {
          "name": "stdout",
          "output_type": "stream",
          "text": [
            "Train Dataset:\n",
            "Images Shape: (128, 256, 256, 3)\n",
            "Labels Shape: (128, 10)\n",
            "\n",
            "Validation Dataset:\n",
            "Images Shape: (128, 256, 256, 3)\n",
            "Labels Shape: (128, 10)\n",
            "\n",
            "Test Dataset:\n",
            "Images Shape: (128, 256, 256, 3)\n",
            "Labels Shape: (128, 10)\n"
          ]
        }
      ],
      "source": [
        "#Shapes of train, validation, and test datasets\n",
        "print(\"Train Dataset:\")\n",
        "print(\"Images Shape:\", train_images.shape)\n",
        "print(\"Labels Shape:\", train_labels.shape)\n",
        "print(\"\\nValidation Dataset:\")\n",
        "print(\"Images Shape:\", val_images.shape)\n",
        "print(\"Labels Shape:\", val_labels.shape)\n",
        "print(\"\\nTest Dataset:\")\n",
        "print(\"Images Shape:\", test_images.shape)\n",
        "print(\"Labels Shape:\", test_labels.shape)"
      ]
    },
    {
      "cell_type": "markdown",
      "id": "4e46c3fc-62a1-43c3-9c41-bd0279ab022f",
      "metadata": {
        "id": "4e46c3fc-62a1-43c3-9c41-bd0279ab022f"
      },
      "source": [
        "# **Model Creation and Evaluation**"
      ]
    },
    {
      "cell_type": "markdown",
      "id": "ce782a22-0cac-4208-95bf-cb8e34ba761a",
      "metadata": {
        "id": "ce782a22-0cac-4208-95bf-cb8e34ba761a"
      },
      "source": [
        "## Baseline Model\n",
        "The baseline Model will be a simple Sequential Neural Network with one Convolutional Layer, one Max Pooling Layer, and one Dense Layer"
      ]
    },
    {
      "cell_type": "code",
      "execution_count": null,
      "id": "5a12b250-577c-40ce-8cd2-7a2d70771a7a",
      "metadata": {
        "id": "5a12b250-577c-40ce-8cd2-7a2d70771a7a",
        "outputId": "0a84b541-04d2-4702-9b76-ce835b6fa993"
      },
      "outputs": [
        {
          "data": {
            "text/html": [
              "<pre style=\"white-space:pre;overflow-x:auto;line-height:normal;font-family:Menlo,'DejaVu Sans Mono',consolas,'Courier New',monospace\"><span style=\"font-weight: bold\">Model: \"sequential_1\"</span>\n",
              "</pre>\n"
            ],
            "text/plain": [
              "\u001b[1mModel: \"sequential_1\"\u001b[0m\n"
            ]
          },
          "metadata": {},
          "output_type": "display_data"
        },
        {
          "data": {
            "text/html": [
              "<pre style=\"white-space:pre;overflow-x:auto;line-height:normal;font-family:Menlo,'DejaVu Sans Mono',consolas,'Courier New',monospace\">┏━━━━━━━━━━━━━━━━━━━━━━━━━━━━━━━━━━━━━━┳━━━━━━━━━━━━━━━━━━━━━━━━━━━━━┳━━━━━━━━━━━━━━━━━┓\n",
              "┃<span style=\"font-weight: bold\"> Layer (type)                         </span>┃<span style=\"font-weight: bold\"> Output Shape                </span>┃<span style=\"font-weight: bold\">         Param # </span>┃\n",
              "┡━━━━━━━━━━━━━━━━━━━━━━━━━━━━━━━━━━━━━━╇━━━━━━━━━━━━━━━━━━━━━━━━━━━━━╇━━━━━━━━━━━━━━━━━┩\n",
              "│ conv2d_1 (<span style=\"color: #0087ff; text-decoration-color: #0087ff\">Conv2D</span>)                    │ (<span style=\"color: #00d7ff; text-decoration-color: #00d7ff\">None</span>, <span style=\"color: #00af00; text-decoration-color: #00af00\">254</span>, <span style=\"color: #00af00; text-decoration-color: #00af00\">254</span>, <span style=\"color: #00af00; text-decoration-color: #00af00\">32</span>)        │             <span style=\"color: #00af00; text-decoration-color: #00af00\">896</span> │\n",
              "├──────────────────────────────────────┼─────────────────────────────┼─────────────────┤\n",
              "│ max_pooling2d_1 (<span style=\"color: #0087ff; text-decoration-color: #0087ff\">MaxPooling2D</span>)       │ (<span style=\"color: #00d7ff; text-decoration-color: #00d7ff\">None</span>, <span style=\"color: #00af00; text-decoration-color: #00af00\">127</span>, <span style=\"color: #00af00; text-decoration-color: #00af00\">127</span>, <span style=\"color: #00af00; text-decoration-color: #00af00\">32</span>)        │               <span style=\"color: #00af00; text-decoration-color: #00af00\">0</span> │\n",
              "├──────────────────────────────────────┼─────────────────────────────┼─────────────────┤\n",
              "│ flatten_1 (<span style=\"color: #0087ff; text-decoration-color: #0087ff\">Flatten</span>)                  │ (<span style=\"color: #00d7ff; text-decoration-color: #00d7ff\">None</span>, <span style=\"color: #00af00; text-decoration-color: #00af00\">516128</span>)              │               <span style=\"color: #00af00; text-decoration-color: #00af00\">0</span> │\n",
              "├──────────────────────────────────────┼─────────────────────────────┼─────────────────┤\n",
              "│ dense_2 (<span style=\"color: #0087ff; text-decoration-color: #0087ff\">Dense</span>)                      │ (<span style=\"color: #00d7ff; text-decoration-color: #00d7ff\">None</span>, <span style=\"color: #00af00; text-decoration-color: #00af00\">64</span>)                  │      <span style=\"color: #00af00; text-decoration-color: #00af00\">33,032,256</span> │\n",
              "├──────────────────────────────────────┼─────────────────────────────┼─────────────────┤\n",
              "│ dense_3 (<span style=\"color: #0087ff; text-decoration-color: #0087ff\">Dense</span>)                      │ (<span style=\"color: #00d7ff; text-decoration-color: #00d7ff\">None</span>, <span style=\"color: #00af00; text-decoration-color: #00af00\">10</span>)                  │             <span style=\"color: #00af00; text-decoration-color: #00af00\">650</span> │\n",
              "└──────────────────────────────────────┴─────────────────────────────┴─────────────────┘\n",
              "</pre>\n"
            ],
            "text/plain": [
              "┏━━━━━━━━━━━━━━━━━━━━━━━━━━━━━━━━━━━━━━┳━━━━━━━━━━━━━━━━━━━━━━━━━━━━━┳━━━━━━━━━━━━━━━━━┓\n",
              "┃\u001b[1m \u001b[0m\u001b[1mLayer (type)                        \u001b[0m\u001b[1m \u001b[0m┃\u001b[1m \u001b[0m\u001b[1mOutput Shape               \u001b[0m\u001b[1m \u001b[0m┃\u001b[1m \u001b[0m\u001b[1m        Param #\u001b[0m\u001b[1m \u001b[0m┃\n",
              "┡━━━━━━━━━━━━━━━━━━━━━━━━━━━━━━━━━━━━━━╇━━━━━━━━━━━━━━━━━━━━━━━━━━━━━╇━━━━━━━━━━━━━━━━━┩\n",
              "│ conv2d_1 (\u001b[38;5;33mConv2D\u001b[0m)                    │ (\u001b[38;5;45mNone\u001b[0m, \u001b[38;5;34m254\u001b[0m, \u001b[38;5;34m254\u001b[0m, \u001b[38;5;34m32\u001b[0m)        │             \u001b[38;5;34m896\u001b[0m │\n",
              "├──────────────────────────────────────┼─────────────────────────────┼─────────────────┤\n",
              "│ max_pooling2d_1 (\u001b[38;5;33mMaxPooling2D\u001b[0m)       │ (\u001b[38;5;45mNone\u001b[0m, \u001b[38;5;34m127\u001b[0m, \u001b[38;5;34m127\u001b[0m, \u001b[38;5;34m32\u001b[0m)        │               \u001b[38;5;34m0\u001b[0m │\n",
              "├──────────────────────────────────────┼─────────────────────────────┼─────────────────┤\n",
              "│ flatten_1 (\u001b[38;5;33mFlatten\u001b[0m)                  │ (\u001b[38;5;45mNone\u001b[0m, \u001b[38;5;34m516128\u001b[0m)              │               \u001b[38;5;34m0\u001b[0m │\n",
              "├──────────────────────────────────────┼─────────────────────────────┼─────────────────┤\n",
              "│ dense_2 (\u001b[38;5;33mDense\u001b[0m)                      │ (\u001b[38;5;45mNone\u001b[0m, \u001b[38;5;34m64\u001b[0m)                  │      \u001b[38;5;34m33,032,256\u001b[0m │\n",
              "├──────────────────────────────────────┼─────────────────────────────┼─────────────────┤\n",
              "│ dense_3 (\u001b[38;5;33mDense\u001b[0m)                      │ (\u001b[38;5;45mNone\u001b[0m, \u001b[38;5;34m10\u001b[0m)                  │             \u001b[38;5;34m650\u001b[0m │\n",
              "└──────────────────────────────────────┴─────────────────────────────┴─────────────────┘\n"
            ]
          },
          "metadata": {},
          "output_type": "display_data"
        },
        {
          "data": {
            "text/html": [
              "<pre style=\"white-space:pre;overflow-x:auto;line-height:normal;font-family:Menlo,'DejaVu Sans Mono',consolas,'Courier New',monospace\"><span style=\"font-weight: bold\"> Total params: </span><span style=\"color: #00af00; text-decoration-color: #00af00\">33,033,802</span> (126.01 MB)\n",
              "</pre>\n"
            ],
            "text/plain": [
              "\u001b[1m Total params: \u001b[0m\u001b[38;5;34m33,033,802\u001b[0m (126.01 MB)\n"
            ]
          },
          "metadata": {},
          "output_type": "display_data"
        },
        {
          "data": {
            "text/html": [
              "<pre style=\"white-space:pre;overflow-x:auto;line-height:normal;font-family:Menlo,'DejaVu Sans Mono',consolas,'Courier New',monospace\"><span style=\"font-weight: bold\"> Trainable params: </span><span style=\"color: #00af00; text-decoration-color: #00af00\">33,033,802</span> (126.01 MB)\n",
              "</pre>\n"
            ],
            "text/plain": [
              "\u001b[1m Trainable params: \u001b[0m\u001b[38;5;34m33,033,802\u001b[0m (126.01 MB)\n"
            ]
          },
          "metadata": {},
          "output_type": "display_data"
        },
        {
          "data": {
            "text/html": [
              "<pre style=\"white-space:pre;overflow-x:auto;line-height:normal;font-family:Menlo,'DejaVu Sans Mono',consolas,'Courier New',monospace\"><span style=\"font-weight: bold\"> Non-trainable params: </span><span style=\"color: #00af00; text-decoration-color: #00af00\">0</span> (0.00 B)\n",
              "</pre>\n"
            ],
            "text/plain": [
              "\u001b[1m Non-trainable params: \u001b[0m\u001b[38;5;34m0\u001b[0m (0.00 B)\n"
            ]
          },
          "metadata": {},
          "output_type": "display_data"
        }
      ],
      "source": [
        "# Instantiating a Sequential model\n",
        "baseline_model = Sequential([\n",
        "    Conv2D(filters=32, kernel_size=(3, 3), activation='relu', input_shape=(256, 256, 3)),  # Input Layer - Convolution\n",
        "    MaxPooling2D(pool_size=(2, 2)),                                                        # Layer 1 - Max pooling in 2x2 window\n",
        "    Flatten(),                                                                             # Layer 2 - Flatten layer\n",
        "    Dense(64, activation='relu'),                                                          # Layer 3 - Dense layer with 32 nodes\n",
        "    Dense(10, activation='softmax')                                                        # Output Layer - Softmax activation for multi-categorical with 10 classes\n",
        "])\n",
        "\n",
        "# Compiling the sequential CNN model\n",
        "baseline_model.compile(optimizer='adam',\n",
        "                       loss='categorical_crossentropy',\n",
        "                       metrics=['accuracy'])\n",
        "\n",
        "# Printing model summary\n",
        "baseline_model.summary()"
      ]
    },
    {
      "cell_type": "code",
      "execution_count": null,
      "id": "dc66774b-4fba-4d43-bc0a-10e2d6ccf7f6",
      "metadata": {
        "id": "dc66774b-4fba-4d43-bc0a-10e2d6ccf7f6",
        "outputId": "86cc97c2-28d9-4cb5-8b8a-230096bd0b86"
      },
      "outputs": [
        {
          "name": "stdout",
          "output_type": "stream",
          "text": [
            "Epoch 1/20\n",
            "\u001b[1m144/144\u001b[0m \u001b[32m━━━━━━━━━━━━━━━━━━━━\u001b[0m\u001b[37m\u001b[0m \u001b[1m238s\u001b[0m 2s/step - accuracy: 0.2887 - loss: 4.4364 - val_accuracy: 0.6059 - val_loss: 1.1012\n",
            "Epoch 2/20\n",
            "\u001b[1m144/144\u001b[0m \u001b[32m━━━━━━━━━━━━━━━━━━━━\u001b[0m\u001b[37m\u001b[0m \u001b[1m252s\u001b[0m 2s/step - accuracy: 0.6241 - loss: 1.0512 - val_accuracy: 0.6630 - val_loss: 0.9673\n",
            "Epoch 3/20\n",
            "\u001b[1m144/144\u001b[0m \u001b[32m━━━━━━━━━━━━━━━━━━━━\u001b[0m\u001b[37m\u001b[0m \u001b[1m244s\u001b[0m 2s/step - accuracy: 0.7075 - loss: 0.8596 - val_accuracy: 0.6948 - val_loss: 0.8964\n",
            "Epoch 4/20\n",
            "\u001b[1m144/144\u001b[0m \u001b[32m━━━━━━━━━━━━━━━━━━━━\u001b[0m\u001b[37m\u001b[0m \u001b[1m240s\u001b[0m 2s/step - accuracy: 0.7409 - loss: 0.7617 - val_accuracy: 0.7000 - val_loss: 0.8279\n",
            "Epoch 5/20\n",
            "\u001b[1m144/144\u001b[0m \u001b[32m━━━━━━━━━━━━━━━━━━━━\u001b[0m\u001b[37m\u001b[0m \u001b[1m241s\u001b[0m 2s/step - accuracy: 0.7862 - loss: 0.6549 - val_accuracy: 0.7074 - val_loss: 0.8229\n",
            "Epoch 6/20\n",
            "\u001b[1m144/144\u001b[0m \u001b[32m━━━━━━━━━━━━━━━━━━━━\u001b[0m\u001b[37m\u001b[0m \u001b[1m239s\u001b[0m 2s/step - accuracy: 0.8042 - loss: 0.5779 - val_accuracy: 0.7259 - val_loss: 0.8443\n",
            "Epoch 7/20\n",
            "\u001b[1m144/144\u001b[0m \u001b[32m━━━━━━━━━━━━━━━━━━━━\u001b[0m\u001b[37m\u001b[0m \u001b[1m242s\u001b[0m 2s/step - accuracy: 0.8302 - loss: 0.5169 - val_accuracy: 0.7293 - val_loss: 0.7885\n",
            "Epoch 8/20\n",
            "\u001b[1m144/144\u001b[0m \u001b[32m━━━━━━━━━━━━━━━━━━━━\u001b[0m\u001b[37m\u001b[0m \u001b[1m265s\u001b[0m 2s/step - accuracy: 0.8439 - loss: 0.4815 - val_accuracy: 0.7414 - val_loss: 0.7358\n",
            "Epoch 9/20\n",
            "\u001b[1m144/144\u001b[0m \u001b[32m━━━━━━━━━━━━━━━━━━━━\u001b[0m\u001b[37m\u001b[0m \u001b[1m249s\u001b[0m 2s/step - accuracy: 0.8698 - loss: 0.4218 - val_accuracy: 0.7435 - val_loss: 0.7764\n",
            "Epoch 10/20\n",
            "\u001b[1m144/144\u001b[0m \u001b[32m━━━━━━━━━━━━━━━━━━━━\u001b[0m\u001b[37m\u001b[0m \u001b[1m244s\u001b[0m 2s/step - accuracy: 0.8936 - loss: 0.3453 - val_accuracy: 0.7167 - val_loss: 0.8599\n",
            "Epoch 11/20\n",
            "\u001b[1m144/144\u001b[0m \u001b[32m━━━━━━━━━━━━━━━━━━━━\u001b[0m\u001b[37m\u001b[0m \u001b[1m250s\u001b[0m 2s/step - accuracy: 0.8902 - loss: 0.3448 - val_accuracy: 0.7531 - val_loss: 0.7249\n",
            "Epoch 12/20\n",
            "\u001b[1m144/144\u001b[0m \u001b[32m━━━━━━━━━━━━━━━━━━━━\u001b[0m\u001b[37m\u001b[0m \u001b[1m263s\u001b[0m 2s/step - accuracy: 0.9232 - loss: 0.2659 - val_accuracy: 0.7574 - val_loss: 0.7254\n",
            "Epoch 13/20\n",
            "\u001b[1m144/144\u001b[0m \u001b[32m━━━━━━━━━━━━━━━━━━━━\u001b[0m\u001b[37m\u001b[0m \u001b[1m256s\u001b[0m 2s/step - accuracy: 0.9344 - loss: 0.2253 - val_accuracy: 0.7235 - val_loss: 0.8276\n",
            "Epoch 14/20\n",
            "\u001b[1m144/144\u001b[0m \u001b[32m━━━━━━━━━━━━━━━━━━━━\u001b[0m\u001b[37m\u001b[0m \u001b[1m247s\u001b[0m 2s/step - accuracy: 0.9475 - loss: 0.1950 - val_accuracy: 0.7651 - val_loss: 0.7717\n",
            "Epoch 15/20\n",
            "\u001b[1m144/144\u001b[0m \u001b[32m━━━━━━━━━━━━━━━━━━━━\u001b[0m\u001b[37m\u001b[0m \u001b[1m248s\u001b[0m 2s/step - accuracy: 0.9599 - loss: 0.1573 - val_accuracy: 0.7494 - val_loss: 0.8117\n",
            "Epoch 16/20\n",
            "\u001b[1m144/144\u001b[0m \u001b[32m━━━━━━━━━━━━━━━━━━━━\u001b[0m\u001b[37m\u001b[0m \u001b[1m262s\u001b[0m 2s/step - accuracy: 0.9639 - loss: 0.1396 - val_accuracy: 0.7519 - val_loss: 0.8182\n",
            "Epoch 17/20\n",
            "\u001b[1m144/144\u001b[0m \u001b[32m━━━━━━━━━━━━━━━━━━━━\u001b[0m\u001b[37m\u001b[0m \u001b[1m260s\u001b[0m 2s/step - accuracy: 0.9691 - loss: 0.1241 - val_accuracy: 0.7522 - val_loss: 0.8363\n",
            "Epoch 18/20\n",
            "\u001b[1m144/144\u001b[0m \u001b[32m━━━━━━━━━━━━━━━━━━━━\u001b[0m\u001b[37m\u001b[0m \u001b[1m264s\u001b[0m 2s/step - accuracy: 0.9767 - loss: 0.1048 - val_accuracy: 0.7546 - val_loss: 0.8551\n",
            "Epoch 19/20\n",
            "\u001b[1m144/144\u001b[0m \u001b[32m━━━━━━━━━━━━━━━━━━━━\u001b[0m\u001b[37m\u001b[0m \u001b[1m256s\u001b[0m 2s/step - accuracy: 0.9847 - loss: 0.0754 - val_accuracy: 0.7602 - val_loss: 0.8767\n",
            "Epoch 20/20\n",
            "\u001b[1m144/144\u001b[0m \u001b[32m━━━━━━━━━━━━━━━━━━━━\u001b[0m\u001b[37m\u001b[0m \u001b[1m258s\u001b[0m 2s/step - accuracy: 0.9843 - loss: 0.0723 - val_accuracy: 0.7373 - val_loss: 0.9371\n"
          ]
        }
      ],
      "source": [
        "baseline_history = baseline_model.fit(train_generator,\n",
        "                                      epochs = 20,\n",
        "                                      batch_size= 128,\n",
        "                                      verbose = 1,\n",
        "                                      validation_data = val_generator)"
      ]
    },
    {
      "cell_type": "code",
      "execution_count": null,
      "id": "21386a37-884a-44b4-8aa2-32aa05107f8f",
      "metadata": {
        "id": "21386a37-884a-44b4-8aa2-32aa05107f8f",
        "outputId": "c4d61996-647d-4979-ea32-630d537ac6ce"
      },
      "outputs": [
        {
          "name": "stdout",
          "output_type": "stream",
          "text": [
            "\u001b[1m43/43\u001b[0m \u001b[32m━━━━━━━━━━━━━━━━━━━━\u001b[0m\u001b[37m\u001b[0m \u001b[1m28s\u001b[0m 657ms/step - accuracy: 0.7433 - loss: 0.9924\n",
            "Test loss:  1.0100334882736206\n",
            "Test accuracy:  0.7342592477798462\n"
          ]
        }
      ],
      "source": [
        "#Model evaluation- Checking loss and accuracy on test data\n",
        "test_loss, test_acc = baseline_model.evaluate(test_generator, verbose = 1)\n",
        "\n",
        "print('Test loss: ', test_loss)\n",
        "print('Test accuracy: ', test_acc)"
      ]
    },
    {
      "cell_type": "markdown",
      "id": "49513d04-d70d-4c6a-aa2f-bfec7d7dde17",
      "metadata": {
        "id": "49513d04-d70d-4c6a-aa2f-bfec7d7dde17"
      },
      "source": [
        "##### After 20 Epochs the baseline model is overfitting with 98.4% train accuracy, 73.7% validation accurcay  and a 73.4% test accuracy"
      ]
    },
    {
      "cell_type": "code",
      "execution_count": null,
      "id": "cc7873c2-b6a6-4c69-9c8f-4b07089e6935",
      "metadata": {
        "id": "cc7873c2-b6a6-4c69-9c8f-4b07089e6935"
      },
      "outputs": [],
      "source": [
        "#Saving the model\n",
        "from tensorflow.keras.models import save_model\n",
        "model_path = 'C:/Users/Administrator/Desktop/tensor/baseline_model.keras'\n",
        "\n",
        "# Save the model architecture and weights\n",
        "baseline_model.save(model_path)"
      ]
    },
    {
      "cell_type": "markdown",
      "id": "41d96835-1d6d-4d2f-ac6c-2234dc4e7c00",
      "metadata": {
        "id": "41d96835-1d6d-4d2f-ac6c-2234dc4e7c00"
      },
      "source": [
        "## First Model"
      ]
    },
    {
      "cell_type": "markdown",
      "id": "addd2732-847a-4ea1-afda-18de55a4664f",
      "metadata": {
        "id": "addd2732-847a-4ea1-afda-18de55a4664f"
      },
      "source": [
        "### Adding Dense Layer and L1 Regularization"
      ]
    },
    {
      "cell_type": "code",
      "execution_count": null,
      "id": "89adecd2-a38a-4e4d-a034-170735544f7f",
      "metadata": {
        "id": "89adecd2-a38a-4e4d-a034-170735544f7f",
        "outputId": "8053842c-73bb-475b-9cd7-31daafa41662"
      },
      "outputs": [
        {
          "data": {
            "text/html": [
              "<pre style=\"white-space:pre;overflow-x:auto;line-height:normal;font-family:Menlo,'DejaVu Sans Mono',consolas,'Courier New',monospace\"><span style=\"font-weight: bold\">Model: \"sequential_3\"</span>\n",
              "</pre>\n"
            ],
            "text/plain": [
              "\u001b[1mModel: \"sequential_3\"\u001b[0m\n"
            ]
          },
          "metadata": {},
          "output_type": "display_data"
        },
        {
          "data": {
            "text/html": [
              "<pre style=\"white-space:pre;overflow-x:auto;line-height:normal;font-family:Menlo,'DejaVu Sans Mono',consolas,'Courier New',monospace\">┏━━━━━━━━━━━━━━━━━━━━━━━━━━━━━━━━━━━━━━┳━━━━━━━━━━━━━━━━━━━━━━━━━━━━━┳━━━━━━━━━━━━━━━━━┓\n",
              "┃<span style=\"font-weight: bold\"> Layer (type)                         </span>┃<span style=\"font-weight: bold\"> Output Shape                </span>┃<span style=\"font-weight: bold\">         Param # </span>┃\n",
              "┡━━━━━━━━━━━━━━━━━━━━━━━━━━━━━━━━━━━━━━╇━━━━━━━━━━━━━━━━━━━━━━━━━━━━━╇━━━━━━━━━━━━━━━━━┩\n",
              "│ conv2d_4 (<span style=\"color: #0087ff; text-decoration-color: #0087ff\">Conv2D</span>)                    │ (<span style=\"color: #00d7ff; text-decoration-color: #00d7ff\">None</span>, <span style=\"color: #00af00; text-decoration-color: #00af00\">254</span>, <span style=\"color: #00af00; text-decoration-color: #00af00\">254</span>, <span style=\"color: #00af00; text-decoration-color: #00af00\">32</span>)        │             <span style=\"color: #00af00; text-decoration-color: #00af00\">896</span> │\n",
              "├──────────────────────────────────────┼─────────────────────────────┼─────────────────┤\n",
              "│ max_pooling2d_4 (<span style=\"color: #0087ff; text-decoration-color: #0087ff\">MaxPooling2D</span>)       │ (<span style=\"color: #00d7ff; text-decoration-color: #00d7ff\">None</span>, <span style=\"color: #00af00; text-decoration-color: #00af00\">127</span>, <span style=\"color: #00af00; text-decoration-color: #00af00\">127</span>, <span style=\"color: #00af00; text-decoration-color: #00af00\">32</span>)        │               <span style=\"color: #00af00; text-decoration-color: #00af00\">0</span> │\n",
              "├──────────────────────────────────────┼─────────────────────────────┼─────────────────┤\n",
              "│ conv2d_5 (<span style=\"color: #0087ff; text-decoration-color: #0087ff\">Conv2D</span>)                    │ (<span style=\"color: #00d7ff; text-decoration-color: #00d7ff\">None</span>, <span style=\"color: #00af00; text-decoration-color: #00af00\">125</span>, <span style=\"color: #00af00; text-decoration-color: #00af00\">125</span>, <span style=\"color: #00af00; text-decoration-color: #00af00\">32</span>)        │           <span style=\"color: #00af00; text-decoration-color: #00af00\">9,248</span> │\n",
              "├──────────────────────────────────────┼─────────────────────────────┼─────────────────┤\n",
              "│ max_pooling2d_5 (<span style=\"color: #0087ff; text-decoration-color: #0087ff\">MaxPooling2D</span>)       │ (<span style=\"color: #00d7ff; text-decoration-color: #00d7ff\">None</span>, <span style=\"color: #00af00; text-decoration-color: #00af00\">62</span>, <span style=\"color: #00af00; text-decoration-color: #00af00\">62</span>, <span style=\"color: #00af00; text-decoration-color: #00af00\">32</span>)          │               <span style=\"color: #00af00; text-decoration-color: #00af00\">0</span> │\n",
              "├──────────────────────────────────────┼─────────────────────────────┼─────────────────┤\n",
              "│ flatten_3 (<span style=\"color: #0087ff; text-decoration-color: #0087ff\">Flatten</span>)                  │ (<span style=\"color: #00d7ff; text-decoration-color: #00d7ff\">None</span>, <span style=\"color: #00af00; text-decoration-color: #00af00\">123008</span>)              │               <span style=\"color: #00af00; text-decoration-color: #00af00\">0</span> │\n",
              "├──────────────────────────────────────┼─────────────────────────────┼─────────────────┤\n",
              "│ dense_6 (<span style=\"color: #0087ff; text-decoration-color: #0087ff\">Dense</span>)                      │ (<span style=\"color: #00d7ff; text-decoration-color: #00d7ff\">None</span>, <span style=\"color: #00af00; text-decoration-color: #00af00\">64</span>)                  │       <span style=\"color: #00af00; text-decoration-color: #00af00\">7,872,576</span> │\n",
              "├──────────────────────────────────────┼─────────────────────────────┼─────────────────┤\n",
              "│ dense_7 (<span style=\"color: #0087ff; text-decoration-color: #0087ff\">Dense</span>)                      │ (<span style=\"color: #00d7ff; text-decoration-color: #00d7ff\">None</span>, <span style=\"color: #00af00; text-decoration-color: #00af00\">10</span>)                  │             <span style=\"color: #00af00; text-decoration-color: #00af00\">650</span> │\n",
              "└──────────────────────────────────────┴─────────────────────────────┴─────────────────┘\n",
              "</pre>\n"
            ],
            "text/plain": [
              "┏━━━━━━━━━━━━━━━━━━━━━━━━━━━━━━━━━━━━━━┳━━━━━━━━━━━━━━━━━━━━━━━━━━━━━┳━━━━━━━━━━━━━━━━━┓\n",
              "┃\u001b[1m \u001b[0m\u001b[1mLayer (type)                        \u001b[0m\u001b[1m \u001b[0m┃\u001b[1m \u001b[0m\u001b[1mOutput Shape               \u001b[0m\u001b[1m \u001b[0m┃\u001b[1m \u001b[0m\u001b[1m        Param #\u001b[0m\u001b[1m \u001b[0m┃\n",
              "┡━━━━━━━━━━━━━━━━━━━━━━━━━━━━━━━━━━━━━━╇━━━━━━━━━━━━━━━━━━━━━━━━━━━━━╇━━━━━━━━━━━━━━━━━┩\n",
              "│ conv2d_4 (\u001b[38;5;33mConv2D\u001b[0m)                    │ (\u001b[38;5;45mNone\u001b[0m, \u001b[38;5;34m254\u001b[0m, \u001b[38;5;34m254\u001b[0m, \u001b[38;5;34m32\u001b[0m)        │             \u001b[38;5;34m896\u001b[0m │\n",
              "├──────────────────────────────────────┼─────────────────────────────┼─────────────────┤\n",
              "│ max_pooling2d_4 (\u001b[38;5;33mMaxPooling2D\u001b[0m)       │ (\u001b[38;5;45mNone\u001b[0m, \u001b[38;5;34m127\u001b[0m, \u001b[38;5;34m127\u001b[0m, \u001b[38;5;34m32\u001b[0m)        │               \u001b[38;5;34m0\u001b[0m │\n",
              "├──────────────────────────────────────┼─────────────────────────────┼─────────────────┤\n",
              "│ conv2d_5 (\u001b[38;5;33mConv2D\u001b[0m)                    │ (\u001b[38;5;45mNone\u001b[0m, \u001b[38;5;34m125\u001b[0m, \u001b[38;5;34m125\u001b[0m, \u001b[38;5;34m32\u001b[0m)        │           \u001b[38;5;34m9,248\u001b[0m │\n",
              "├──────────────────────────────────────┼─────────────────────────────┼─────────────────┤\n",
              "│ max_pooling2d_5 (\u001b[38;5;33mMaxPooling2D\u001b[0m)       │ (\u001b[38;5;45mNone\u001b[0m, \u001b[38;5;34m62\u001b[0m, \u001b[38;5;34m62\u001b[0m, \u001b[38;5;34m32\u001b[0m)          │               \u001b[38;5;34m0\u001b[0m │\n",
              "├──────────────────────────────────────┼─────────────────────────────┼─────────────────┤\n",
              "│ flatten_3 (\u001b[38;5;33mFlatten\u001b[0m)                  │ (\u001b[38;5;45mNone\u001b[0m, \u001b[38;5;34m123008\u001b[0m)              │               \u001b[38;5;34m0\u001b[0m │\n",
              "├──────────────────────────────────────┼─────────────────────────────┼─────────────────┤\n",
              "│ dense_6 (\u001b[38;5;33mDense\u001b[0m)                      │ (\u001b[38;5;45mNone\u001b[0m, \u001b[38;5;34m64\u001b[0m)                  │       \u001b[38;5;34m7,872,576\u001b[0m │\n",
              "├──────────────────────────────────────┼─────────────────────────────┼─────────────────┤\n",
              "│ dense_7 (\u001b[38;5;33mDense\u001b[0m)                      │ (\u001b[38;5;45mNone\u001b[0m, \u001b[38;5;34m10\u001b[0m)                  │             \u001b[38;5;34m650\u001b[0m │\n",
              "└──────────────────────────────────────┴─────────────────────────────┴─────────────────┘\n"
            ]
          },
          "metadata": {},
          "output_type": "display_data"
        },
        {
          "data": {
            "text/html": [
              "<pre style=\"white-space:pre;overflow-x:auto;line-height:normal;font-family:Menlo,'DejaVu Sans Mono',consolas,'Courier New',monospace\"><span style=\"font-weight: bold\"> Total params: </span><span style=\"color: #00af00; text-decoration-color: #00af00\">7,883,370</span> (30.07 MB)\n",
              "</pre>\n"
            ],
            "text/plain": [
              "\u001b[1m Total params: \u001b[0m\u001b[38;5;34m7,883,370\u001b[0m (30.07 MB)\n"
            ]
          },
          "metadata": {},
          "output_type": "display_data"
        },
        {
          "data": {
            "text/html": [
              "<pre style=\"white-space:pre;overflow-x:auto;line-height:normal;font-family:Menlo,'DejaVu Sans Mono',consolas,'Courier New',monospace\"><span style=\"font-weight: bold\"> Trainable params: </span><span style=\"color: #00af00; text-decoration-color: #00af00\">7,883,370</span> (30.07 MB)\n",
              "</pre>\n"
            ],
            "text/plain": [
              "\u001b[1m Trainable params: \u001b[0m\u001b[38;5;34m7,883,370\u001b[0m (30.07 MB)\n"
            ]
          },
          "metadata": {},
          "output_type": "display_data"
        },
        {
          "data": {
            "text/html": [
              "<pre style=\"white-space:pre;overflow-x:auto;line-height:normal;font-family:Menlo,'DejaVu Sans Mono',consolas,'Courier New',monospace\"><span style=\"font-weight: bold\"> Non-trainable params: </span><span style=\"color: #00af00; text-decoration-color: #00af00\">0</span> (0.00 B)\n",
              "</pre>\n"
            ],
            "text/plain": [
              "\u001b[1m Non-trainable params: \u001b[0m\u001b[38;5;34m0\u001b[0m (0.00 B)\n"
            ]
          },
          "metadata": {},
          "output_type": "display_data"
        }
      ],
      "source": [
        "# Instantiating the model\n",
        "model1 = Sequential([\n",
        "    Conv2D(filters=32, kernel_size=(3, 3), activation='relu', input_shape=(256, 256, 3),kernel_regularizer=regularizers.l1(0.005)),  # Added l1 regularization\n",
        "    MaxPooling2D(pool_size=(2, 2)),\n",
        "    Conv2D(filters=32, kernel_size=(3, 3), activation='relu',kernel_regularizer=regularizers.l1(0.005)), # added another 2D layer with l1 legularization\n",
        "    MaxPooling2D(pool_size=(2, 2)),\n",
        "    Flatten(),\n",
        "    Dense(64, activation='relu',kernel_regularizer=regularizers.l1(0.005)),  #added l1 regularization\n",
        "    Dense(10, activation='softmax')\n",
        "])\n",
        "# Compiling the model\n",
        "model1.compile(optimizer='adam',\n",
        "                       loss='categorical_crossentropy',\n",
        "                       metrics=['accuracy'])\n",
        "\n",
        "# Printing model summary\n",
        "model1.summary()"
      ]
    },
    {
      "cell_type": "markdown",
      "id": "e3e30ab0-2498-415f-b385-5eee0e4287d9",
      "metadata": {
        "id": "e3e30ab0-2498-415f-b385-5eee0e4287d9"
      },
      "source": [
        "#### Defining Early Stopping"
      ]
    },
    {
      "cell_type": "code",
      "execution_count": null,
      "id": "50788585-4dde-437d-87f9-cf0bfa0b8871",
      "metadata": {
        "id": "50788585-4dde-437d-87f9-cf0bfa0b8871",
        "outputId": "40e719b3-d759-46b0-baf9-a7341e25c310"
      },
      "outputs": [
        {
          "name": "stdout",
          "output_type": "stream",
          "text": [
            "Epoch 1/20\n",
            "\u001b[1m144/144\u001b[0m \u001b[32m━━━━━━━━━━━━━━━━━━━━\u001b[0m\u001b[37m\u001b[0m \u001b[1m289s\u001b[0m 2s/step - accuracy: 0.1355 - loss: 28.7946 - val_accuracy: 0.2028 - val_loss: 7.8853\n",
            "Epoch 2/20\n",
            "\u001b[1m144/144\u001b[0m \u001b[32m━━━━━━━━━━━━━━━━━━━━\u001b[0m\u001b[37m\u001b[0m \u001b[1m287s\u001b[0m 2s/step - accuracy: 0.2285 - loss: 7.6117 - val_accuracy: 0.2481 - val_loss: 7.2210\n",
            "Epoch 3/20\n",
            "\u001b[1m144/144\u001b[0m \u001b[32m━━━━━━━━━━━━━━━━━━━━\u001b[0m\u001b[37m\u001b[0m \u001b[1m288s\u001b[0m 2s/step - accuracy: 0.2438 - loss: 7.1793 - val_accuracy: 0.2713 - val_loss: 7.0557\n",
            "Epoch 4/20\n",
            "\u001b[1m144/144\u001b[0m \u001b[32m━━━━━━━━━━━━━━━━━━━━\u001b[0m\u001b[37m\u001b[0m \u001b[1m286s\u001b[0m 2s/step - accuracy: 0.2548 - loss: 6.9454 - val_accuracy: 0.2941 - val_loss: 6.8757\n",
            "Epoch 5/20\n",
            "\u001b[1m144/144\u001b[0m \u001b[32m━━━━━━━━━━━━━━━━━━━━\u001b[0m\u001b[37m\u001b[0m \u001b[1m287s\u001b[0m 2s/step - accuracy: 0.2621 - loss: 6.8121 - val_accuracy: 0.2787 - val_loss: 6.8093\n",
            "Epoch 6/20\n",
            "\u001b[1m144/144\u001b[0m \u001b[32m━━━━━━━━━━━━━━━━━━━━\u001b[0m\u001b[37m\u001b[0m \u001b[1m288s\u001b[0m 2s/step - accuracy: 0.2639 - loss: 6.7273 - val_accuracy: 0.2910 - val_loss: 6.6722\n",
            "Epoch 7/20\n",
            "\u001b[1m144/144\u001b[0m \u001b[32m━━━━━━━━━━━━━━━━━━━━\u001b[0m\u001b[37m\u001b[0m \u001b[1m286s\u001b[0m 2s/step - accuracy: 0.2720 - loss: 6.6817 - val_accuracy: 0.2556 - val_loss: 6.7635\n",
            "Epoch 8/20\n",
            "\u001b[1m144/144\u001b[0m \u001b[32m━━━━━━━━━━━━━━━━━━━━\u001b[0m\u001b[37m\u001b[0m \u001b[1m286s\u001b[0m 2s/step - accuracy: 0.2822 - loss: 6.6576 - val_accuracy: 0.3025 - val_loss: 6.6067\n",
            "Epoch 9/20\n",
            "\u001b[1m144/144\u001b[0m \u001b[32m━━━━━━━━━━━━━━━━━━━━\u001b[0m\u001b[37m\u001b[0m \u001b[1m286s\u001b[0m 2s/step - accuracy: 0.2850 - loss: 6.6272 - val_accuracy: 0.2883 - val_loss: 6.6782\n",
            "Epoch 10/20\n",
            "\u001b[1m144/144\u001b[0m \u001b[32m━━━━━━━━━━━━━━━━━━━━\u001b[0m\u001b[37m\u001b[0m \u001b[1m286s\u001b[0m 2s/step - accuracy: 0.2923 - loss: 6.6063 - val_accuracy: 0.2701 - val_loss: 6.7177\n",
            "Epoch 10: early stopping\n"
          ]
        }
      ],
      "source": [
        "# Defining Stopping Criteria\n",
        "callback1 = EarlyStopping(monitor='val_loss', mode='min', verbose = 1, patience = 2)\n",
        "\n",
        "\n",
        "# Fit the model\n",
        "model1_history = model1.fit(train_generator,\n",
        "                                  epochs= 20,\n",
        "                                  validation_data = val_generator,\n",
        "                                  callbacks= callback1,\n",
        "                                  batch_size=128,\n",
        "                                  verbose = 1)"
      ]
    },
    {
      "cell_type": "code",
      "execution_count": null,
      "id": "b85409ab-574c-424c-afc1-737f441da23a",
      "metadata": {
        "id": "b85409ab-574c-424c-afc1-737f441da23a",
        "outputId": "6a33fd78-d753-4dae-e330-e2a1c9114eed"
      },
      "outputs": [
        {
          "name": "stdout",
          "output_type": "stream",
          "text": [
            "\u001b[1m43/43\u001b[0m \u001b[32m━━━━━━━━━━━━━━━━━━━━\u001b[0m\u001b[37m\u001b[0m \u001b[1m38s\u001b[0m 896ms/step - accuracy: 0.2838 - loss: 6.6937\n",
            "Test loss:  6.718238353729248\n",
            "Test accuracy:  0.26592591404914856\n"
          ]
        }
      ],
      "source": [
        "#Check loss and accuracy on test data\n",
        "test_loss, test_acc = model1.evaluate(test_generator, verbose = 1)\n",
        "\n",
        "print('Test loss: ', test_loss)\n",
        "print('Test accuracy: ', test_acc)"
      ]
    },
    {
      "cell_type": "markdown",
      "id": "9a7d3fdb-13b5-4190-a39a-761d1352d594",
      "metadata": {
        "id": "9a7d3fdb-13b5-4190-a39a-761d1352d594"
      },
      "source": [
        "##### The model did not perform well. After 10 epochs(early stopping) it gave 29% train accuracy, 27% validation accuracy and 26.5% test accuracy."
      ]
    },
    {
      "cell_type": "markdown",
      "id": "b58c5e82-ba1d-4004-9a41-1299c0a1c41f",
      "metadata": {
        "id": "b58c5e82-ba1d-4004-9a41-1299c0a1c41f"
      },
      "source": [
        "## Second Model"
      ]
    },
    {
      "cell_type": "markdown",
      "id": "9c507fcd-ed17-40ea-994c-1955c9bfe8c9",
      "metadata": {
        "id": "9c507fcd-ed17-40ea-994c-1955c9bfe8c9"
      },
      "source": [
        "### Adding Dropout and L2 Regularization"
      ]
    },
    {
      "cell_type": "code",
      "execution_count": null,
      "id": "16fd9b1b-7c54-4c23-a0b5-461069607e1f",
      "metadata": {
        "id": "16fd9b1b-7c54-4c23-a0b5-461069607e1f",
        "outputId": "b0946a53-9c51-4a2a-f4fc-9fa754b61a8b"
      },
      "outputs": [
        {
          "data": {
            "text/html": [
              "<pre style=\"white-space:pre;overflow-x:auto;line-height:normal;font-family:Menlo,'DejaVu Sans Mono',consolas,'Courier New',monospace\"><span style=\"font-weight: bold\">Model: \"sequential_5\"</span>\n",
              "</pre>\n"
            ],
            "text/plain": [
              "\u001b[1mModel: \"sequential_5\"\u001b[0m\n"
            ]
          },
          "metadata": {},
          "output_type": "display_data"
        },
        {
          "data": {
            "text/html": [
              "<pre style=\"white-space:pre;overflow-x:auto;line-height:normal;font-family:Menlo,'DejaVu Sans Mono',consolas,'Courier New',monospace\">┏━━━━━━━━━━━━━━━━━━━━━━━━━━━━━━━━━━━━━━┳━━━━━━━━━━━━━━━━━━━━━━━━━━━━━┳━━━━━━━━━━━━━━━━━┓\n",
              "┃<span style=\"font-weight: bold\"> Layer (type)                         </span>┃<span style=\"font-weight: bold\"> Output Shape                </span>┃<span style=\"font-weight: bold\">         Param # </span>┃\n",
              "┡━━━━━━━━━━━━━━━━━━━━━━━━━━━━━━━━━━━━━━╇━━━━━━━━━━━━━━━━━━━━━━━━━━━━━╇━━━━━━━━━━━━━━━━━┩\n",
              "│ conv2d_9 (<span style=\"color: #0087ff; text-decoration-color: #0087ff\">Conv2D</span>)                    │ (<span style=\"color: #00d7ff; text-decoration-color: #00d7ff\">None</span>, <span style=\"color: #00af00; text-decoration-color: #00af00\">254</span>, <span style=\"color: #00af00; text-decoration-color: #00af00\">254</span>, <span style=\"color: #00af00; text-decoration-color: #00af00\">32</span>)        │             <span style=\"color: #00af00; text-decoration-color: #00af00\">896</span> │\n",
              "├──────────────────────────────────────┼─────────────────────────────┼─────────────────┤\n",
              "│ max_pooling2d_9 (<span style=\"color: #0087ff; text-decoration-color: #0087ff\">MaxPooling2D</span>)       │ (<span style=\"color: #00d7ff; text-decoration-color: #00d7ff\">None</span>, <span style=\"color: #00af00; text-decoration-color: #00af00\">127</span>, <span style=\"color: #00af00; text-decoration-color: #00af00\">127</span>, <span style=\"color: #00af00; text-decoration-color: #00af00\">32</span>)        │               <span style=\"color: #00af00; text-decoration-color: #00af00\">0</span> │\n",
              "├──────────────────────────────────────┼─────────────────────────────┼─────────────────┤\n",
              "│ dropout_2 (<span style=\"color: #0087ff; text-decoration-color: #0087ff\">Dropout</span>)                  │ (<span style=\"color: #00d7ff; text-decoration-color: #00d7ff\">None</span>, <span style=\"color: #00af00; text-decoration-color: #00af00\">127</span>, <span style=\"color: #00af00; text-decoration-color: #00af00\">127</span>, <span style=\"color: #00af00; text-decoration-color: #00af00\">32</span>)        │               <span style=\"color: #00af00; text-decoration-color: #00af00\">0</span> │\n",
              "├──────────────────────────────────────┼─────────────────────────────┼─────────────────┤\n",
              "│ conv2d_10 (<span style=\"color: #0087ff; text-decoration-color: #0087ff\">Conv2D</span>)                   │ (<span style=\"color: #00d7ff; text-decoration-color: #00d7ff\">None</span>, <span style=\"color: #00af00; text-decoration-color: #00af00\">125</span>, <span style=\"color: #00af00; text-decoration-color: #00af00\">125</span>, <span style=\"color: #00af00; text-decoration-color: #00af00\">32</span>)        │           <span style=\"color: #00af00; text-decoration-color: #00af00\">9,248</span> │\n",
              "├──────────────────────────────────────┼─────────────────────────────┼─────────────────┤\n",
              "│ max_pooling2d_10 (<span style=\"color: #0087ff; text-decoration-color: #0087ff\">MaxPooling2D</span>)      │ (<span style=\"color: #00d7ff; text-decoration-color: #00d7ff\">None</span>, <span style=\"color: #00af00; text-decoration-color: #00af00\">62</span>, <span style=\"color: #00af00; text-decoration-color: #00af00\">62</span>, <span style=\"color: #00af00; text-decoration-color: #00af00\">32</span>)          │               <span style=\"color: #00af00; text-decoration-color: #00af00\">0</span> │\n",
              "├──────────────────────────────────────┼─────────────────────────────┼─────────────────┤\n",
              "│ dropout_3 (<span style=\"color: #0087ff; text-decoration-color: #0087ff\">Dropout</span>)                  │ (<span style=\"color: #00d7ff; text-decoration-color: #00d7ff\">None</span>, <span style=\"color: #00af00; text-decoration-color: #00af00\">62</span>, <span style=\"color: #00af00; text-decoration-color: #00af00\">62</span>, <span style=\"color: #00af00; text-decoration-color: #00af00\">32</span>)          │               <span style=\"color: #00af00; text-decoration-color: #00af00\">0</span> │\n",
              "├──────────────────────────────────────┼─────────────────────────────┼─────────────────┤\n",
              "│ flatten_5 (<span style=\"color: #0087ff; text-decoration-color: #0087ff\">Flatten</span>)                  │ (<span style=\"color: #00d7ff; text-decoration-color: #00d7ff\">None</span>, <span style=\"color: #00af00; text-decoration-color: #00af00\">123008</span>)              │               <span style=\"color: #00af00; text-decoration-color: #00af00\">0</span> │\n",
              "├──────────────────────────────────────┼─────────────────────────────┼─────────────────┤\n",
              "│ dense_10 (<span style=\"color: #0087ff; text-decoration-color: #0087ff\">Dense</span>)                     │ (<span style=\"color: #00d7ff; text-decoration-color: #00d7ff\">None</span>, <span style=\"color: #00af00; text-decoration-color: #00af00\">32</span>)                  │       <span style=\"color: #00af00; text-decoration-color: #00af00\">3,936,288</span> │\n",
              "├──────────────────────────────────────┼─────────────────────────────┼─────────────────┤\n",
              "│ dense_11 (<span style=\"color: #0087ff; text-decoration-color: #0087ff\">Dense</span>)                     │ (<span style=\"color: #00d7ff; text-decoration-color: #00d7ff\">None</span>, <span style=\"color: #00af00; text-decoration-color: #00af00\">64</span>)                  │           <span style=\"color: #00af00; text-decoration-color: #00af00\">2,112</span> │\n",
              "├──────────────────────────────────────┼─────────────────────────────┼─────────────────┤\n",
              "│ dense_12 (<span style=\"color: #0087ff; text-decoration-color: #0087ff\">Dense</span>)                     │ (<span style=\"color: #00d7ff; text-decoration-color: #00d7ff\">None</span>, <span style=\"color: #00af00; text-decoration-color: #00af00\">10</span>)                  │             <span style=\"color: #00af00; text-decoration-color: #00af00\">650</span> │\n",
              "└──────────────────────────────────────┴─────────────────────────────┴─────────────────┘\n",
              "</pre>\n"
            ],
            "text/plain": [
              "┏━━━━━━━━━━━━━━━━━━━━━━━━━━━━━━━━━━━━━━┳━━━━━━━━━━━━━━━━━━━━━━━━━━━━━┳━━━━━━━━━━━━━━━━━┓\n",
              "┃\u001b[1m \u001b[0m\u001b[1mLayer (type)                        \u001b[0m\u001b[1m \u001b[0m┃\u001b[1m \u001b[0m\u001b[1mOutput Shape               \u001b[0m\u001b[1m \u001b[0m┃\u001b[1m \u001b[0m\u001b[1m        Param #\u001b[0m\u001b[1m \u001b[0m┃\n",
              "┡━━━━━━━━━━━━━━━━━━━━━━━━━━━━━━━━━━━━━━╇━━━━━━━━━━━━━━━━━━━━━━━━━━━━━╇━━━━━━━━━━━━━━━━━┩\n",
              "│ conv2d_9 (\u001b[38;5;33mConv2D\u001b[0m)                    │ (\u001b[38;5;45mNone\u001b[0m, \u001b[38;5;34m254\u001b[0m, \u001b[38;5;34m254\u001b[0m, \u001b[38;5;34m32\u001b[0m)        │             \u001b[38;5;34m896\u001b[0m │\n",
              "├──────────────────────────────────────┼─────────────────────────────┼─────────────────┤\n",
              "│ max_pooling2d_9 (\u001b[38;5;33mMaxPooling2D\u001b[0m)       │ (\u001b[38;5;45mNone\u001b[0m, \u001b[38;5;34m127\u001b[0m, \u001b[38;5;34m127\u001b[0m, \u001b[38;5;34m32\u001b[0m)        │               \u001b[38;5;34m0\u001b[0m │\n",
              "├──────────────────────────────────────┼─────────────────────────────┼─────────────────┤\n",
              "│ dropout_2 (\u001b[38;5;33mDropout\u001b[0m)                  │ (\u001b[38;5;45mNone\u001b[0m, \u001b[38;5;34m127\u001b[0m, \u001b[38;5;34m127\u001b[0m, \u001b[38;5;34m32\u001b[0m)        │               \u001b[38;5;34m0\u001b[0m │\n",
              "├──────────────────────────────────────┼─────────────────────────────┼─────────────────┤\n",
              "│ conv2d_10 (\u001b[38;5;33mConv2D\u001b[0m)                   │ (\u001b[38;5;45mNone\u001b[0m, \u001b[38;5;34m125\u001b[0m, \u001b[38;5;34m125\u001b[0m, \u001b[38;5;34m32\u001b[0m)        │           \u001b[38;5;34m9,248\u001b[0m │\n",
              "├──────────────────────────────────────┼─────────────────────────────┼─────────────────┤\n",
              "│ max_pooling2d_10 (\u001b[38;5;33mMaxPooling2D\u001b[0m)      │ (\u001b[38;5;45mNone\u001b[0m, \u001b[38;5;34m62\u001b[0m, \u001b[38;5;34m62\u001b[0m, \u001b[38;5;34m32\u001b[0m)          │               \u001b[38;5;34m0\u001b[0m │\n",
              "├──────────────────────────────────────┼─────────────────────────────┼─────────────────┤\n",
              "│ dropout_3 (\u001b[38;5;33mDropout\u001b[0m)                  │ (\u001b[38;5;45mNone\u001b[0m, \u001b[38;5;34m62\u001b[0m, \u001b[38;5;34m62\u001b[0m, \u001b[38;5;34m32\u001b[0m)          │               \u001b[38;5;34m0\u001b[0m │\n",
              "├──────────────────────────────────────┼─────────────────────────────┼─────────────────┤\n",
              "│ flatten_5 (\u001b[38;5;33mFlatten\u001b[0m)                  │ (\u001b[38;5;45mNone\u001b[0m, \u001b[38;5;34m123008\u001b[0m)              │               \u001b[38;5;34m0\u001b[0m │\n",
              "├──────────────────────────────────────┼─────────────────────────────┼─────────────────┤\n",
              "│ dense_10 (\u001b[38;5;33mDense\u001b[0m)                     │ (\u001b[38;5;45mNone\u001b[0m, \u001b[38;5;34m32\u001b[0m)                  │       \u001b[38;5;34m3,936,288\u001b[0m │\n",
              "├──────────────────────────────────────┼─────────────────────────────┼─────────────────┤\n",
              "│ dense_11 (\u001b[38;5;33mDense\u001b[0m)                     │ (\u001b[38;5;45mNone\u001b[0m, \u001b[38;5;34m64\u001b[0m)                  │           \u001b[38;5;34m2,112\u001b[0m │\n",
              "├──────────────────────────────────────┼─────────────────────────────┼─────────────────┤\n",
              "│ dense_12 (\u001b[38;5;33mDense\u001b[0m)                     │ (\u001b[38;5;45mNone\u001b[0m, \u001b[38;5;34m10\u001b[0m)                  │             \u001b[38;5;34m650\u001b[0m │\n",
              "└──────────────────────────────────────┴─────────────────────────────┴─────────────────┘\n"
            ]
          },
          "metadata": {},
          "output_type": "display_data"
        },
        {
          "data": {
            "text/html": [
              "<pre style=\"white-space:pre;overflow-x:auto;line-height:normal;font-family:Menlo,'DejaVu Sans Mono',consolas,'Courier New',monospace\"><span style=\"font-weight: bold\"> Total params: </span><span style=\"color: #00af00; text-decoration-color: #00af00\">3,949,194</span> (15.06 MB)\n",
              "</pre>\n"
            ],
            "text/plain": [
              "\u001b[1m Total params: \u001b[0m\u001b[38;5;34m3,949,194\u001b[0m (15.06 MB)\n"
            ]
          },
          "metadata": {},
          "output_type": "display_data"
        },
        {
          "data": {
            "text/html": [
              "<pre style=\"white-space:pre;overflow-x:auto;line-height:normal;font-family:Menlo,'DejaVu Sans Mono',consolas,'Courier New',monospace\"><span style=\"font-weight: bold\"> Trainable params: </span><span style=\"color: #00af00; text-decoration-color: #00af00\">3,949,194</span> (15.06 MB)\n",
              "</pre>\n"
            ],
            "text/plain": [
              "\u001b[1m Trainable params: \u001b[0m\u001b[38;5;34m3,949,194\u001b[0m (15.06 MB)\n"
            ]
          },
          "metadata": {},
          "output_type": "display_data"
        },
        {
          "data": {
            "text/html": [
              "<pre style=\"white-space:pre;overflow-x:auto;line-height:normal;font-family:Menlo,'DejaVu Sans Mono',consolas,'Courier New',monospace\"><span style=\"font-weight: bold\"> Non-trainable params: </span><span style=\"color: #00af00; text-decoration-color: #00af00\">0</span> (0.00 B)\n",
              "</pre>\n"
            ],
            "text/plain": [
              "\u001b[1m Non-trainable params: \u001b[0m\u001b[38;5;34m0\u001b[0m (0.00 B)\n"
            ]
          },
          "metadata": {},
          "output_type": "display_data"
        }
      ],
      "source": [
        "# Instantiating the model\n",
        "model2 = Sequential([\n",
        "    Conv2D(filters=32, kernel_size=(3, 3), activation='relu', input_shape=(256, 256, 3),kernel_regularizer=regularizers.l2(0.005)),  # Added l2 regularization\n",
        "    MaxPooling2D(pool_size=(2, 2)),\n",
        "    Dropout(0.2),  # Added  Dropout\n",
        "    Conv2D(filters=32, kernel_size=(3, 3), activation='relu',kernel_regularizer=regularizers.l2(0.005)), #Added l2 regularization\n",
        "    MaxPooling2D(pool_size=(2, 2)),\n",
        "    Dropout(0.2), # Added  Dropout\n",
        "    Flatten(),\n",
        "    Dense(32, activation='relu', kernel_regularizer=regularizers.l2(0.005)),\n",
        "    Dense(64, activation='relu',kernel_regularizer=regularizers.l2(0.005)),  #Added l2 regularization\n",
        "    Dense(10, activation='softmax')\n",
        "])\n",
        "# Compiling the model\n",
        "model2.compile(optimizer='adam',\n",
        "                       loss='categorical_crossentropy',\n",
        "                       metrics=['accuracy'])\n",
        "\n",
        "# Printing model summary\n",
        "model2.summary()"
      ]
    },
    {
      "cell_type": "code",
      "execution_count": null,
      "id": "36676269-fc59-45ba-8f96-75b515cadd0a",
      "metadata": {
        "id": "36676269-fc59-45ba-8f96-75b515cadd0a",
        "outputId": "c0122f53-d1ee-4690-9d67-fac9841a195c"
      },
      "outputs": [
        {
          "name": "stdout",
          "output_type": "stream",
          "text": [
            "Epoch 1/20\n",
            "\u001b[1m144/144\u001b[0m \u001b[32m━━━━━━━━━━━━━━━━━━━━\u001b[0m\u001b[37m\u001b[0m \u001b[1m338s\u001b[0m 2s/step - accuracy: 0.1483 - loss: 2.9241 - val_accuracy: 0.3145 - val_loss: 1.9566\n",
            "Epoch 2/20\n",
            "\u001b[1m144/144\u001b[0m \u001b[32m━━━━━━━━━━━━━━━━━━━━\u001b[0m\u001b[37m\u001b[0m \u001b[1m329s\u001b[0m 2s/step - accuracy: 0.3803 - loss: 1.8602 - val_accuracy: 0.4580 - val_loss: 1.6587\n",
            "Epoch 3/20\n",
            "\u001b[1m144/144\u001b[0m \u001b[32m━━━━━━━━━━━━━━━━━━━━\u001b[0m\u001b[37m\u001b[0m \u001b[1m327s\u001b[0m 2s/step - accuracy: 0.4651 - loss: 1.6421 - val_accuracy: 0.4522 - val_loss: 1.6066\n",
            "Epoch 4/20\n",
            "\u001b[1m144/144\u001b[0m \u001b[32m━━━━━━━━━━━━━━━━━━━━\u001b[0m\u001b[37m\u001b[0m \u001b[1m322s\u001b[0m 2s/step - accuracy: 0.5163 - loss: 1.5441 - val_accuracy: 0.5481 - val_loss: 1.4840\n",
            "Epoch 5/20\n",
            "\u001b[1m144/144\u001b[0m \u001b[32m━━━━━━━━━━━━━━━━━━━━\u001b[0m\u001b[37m\u001b[0m \u001b[1m322s\u001b[0m 2s/step - accuracy: 0.5657 - loss: 1.4232 - val_accuracy: 0.5941 - val_loss: 1.4155\n",
            "Epoch 6/20\n",
            "\u001b[1m144/144\u001b[0m \u001b[32m━━━━━━━━━━━━━━━━━━━━\u001b[0m\u001b[37m\u001b[0m \u001b[1m321s\u001b[0m 2s/step - accuracy: 0.6049 - loss: 1.3535 - val_accuracy: 0.5590 - val_loss: 1.4026\n",
            "Epoch 7/20\n",
            "\u001b[1m144/144\u001b[0m \u001b[32m━━━━━━━━━━━━━━━━━━━━\u001b[0m\u001b[37m\u001b[0m \u001b[1m318s\u001b[0m 2s/step - accuracy: 0.6197 - loss: 1.2936 - val_accuracy: 0.5914 - val_loss: 1.3047\n",
            "Epoch 8/20\n",
            "\u001b[1m144/144\u001b[0m \u001b[32m━━━━━━━━━━━━━━━━━━━━\u001b[0m\u001b[37m\u001b[0m \u001b[1m326s\u001b[0m 2s/step - accuracy: 0.6398 - loss: 1.2213 - val_accuracy: 0.6043 - val_loss: 1.3445\n",
            "Epoch 9/20\n",
            "\u001b[1m144/144\u001b[0m \u001b[32m━━━━━━━━━━━━━━━━━━━━\u001b[0m\u001b[37m\u001b[0m \u001b[1m324s\u001b[0m 2s/step - accuracy: 0.6457 - loss: 1.2025 - val_accuracy: 0.6435 - val_loss: 1.1976\n",
            "Epoch 10/20\n",
            "\u001b[1m144/144\u001b[0m \u001b[32m━━━━━━━━━━━━━━━━━━━━\u001b[0m\u001b[37m\u001b[0m \u001b[1m323s\u001b[0m 2s/step - accuracy: 0.6715 - loss: 1.1257 - val_accuracy: 0.6451 - val_loss: 1.1936\n",
            "Epoch 11/20\n",
            "\u001b[1m144/144\u001b[0m \u001b[32m━━━━━━━━━━━━━━━━━━━━\u001b[0m\u001b[37m\u001b[0m \u001b[1m323s\u001b[0m 2s/step - accuracy: 0.6796 - loss: 1.1113 - val_accuracy: 0.6574 - val_loss: 1.1328\n",
            "Epoch 12/20\n",
            "\u001b[1m144/144\u001b[0m \u001b[32m━━━━━━━━━━━━━━━━━━━━\u001b[0m\u001b[37m\u001b[0m \u001b[1m324s\u001b[0m 2s/step - accuracy: 0.6884 - loss: 1.0698 - val_accuracy: 0.6478 - val_loss: 1.1376\n",
            "Epoch 13/20\n",
            "\u001b[1m144/144\u001b[0m \u001b[32m━━━━━━━━━━━━━━━━━━━━\u001b[0m\u001b[37m\u001b[0m \u001b[1m323s\u001b[0m 2s/step - accuracy: 0.7043 - loss: 1.0481 - val_accuracy: 0.6840 - val_loss: 1.0832\n",
            "Epoch 14/20\n",
            "\u001b[1m144/144\u001b[0m \u001b[32m━━━━━━━━━━━━━━━━━━━━\u001b[0m\u001b[37m\u001b[0m \u001b[1m323s\u001b[0m 2s/step - accuracy: 0.6833 - loss: 1.0989 - val_accuracy: 0.6926 - val_loss: 1.0637\n",
            "Epoch 15/20\n",
            "\u001b[1m144/144\u001b[0m \u001b[32m━━━━━━━━━━━━━━━━━━━━\u001b[0m\u001b[37m\u001b[0m \u001b[1m328s\u001b[0m 2s/step - accuracy: 0.7023 - loss: 1.0326 - val_accuracy: 0.6923 - val_loss: 1.0243\n",
            "Epoch 16/20\n",
            "\u001b[1m144/144\u001b[0m \u001b[32m━━━━━━━━━━━━━━━━━━━━\u001b[0m\u001b[37m\u001b[0m \u001b[1m323s\u001b[0m 2s/step - accuracy: 0.7167 - loss: 0.9931 - val_accuracy: 0.7210 - val_loss: 0.9923\n",
            "Epoch 17/20\n",
            "\u001b[1m144/144\u001b[0m \u001b[32m━━━━━━━━━━━━━━━━━━━━\u001b[0m\u001b[37m\u001b[0m \u001b[1m322s\u001b[0m 2s/step - accuracy: 0.7293 - loss: 0.9652 - val_accuracy: 0.6744 - val_loss: 1.0849\n",
            "Epoch 18/20\n",
            "\u001b[1m144/144\u001b[0m \u001b[32m━━━━━━━━━━━━━━━━━━━━\u001b[0m\u001b[37m\u001b[0m \u001b[1m321s\u001b[0m 2s/step - accuracy: 0.7263 - loss: 0.9590 - val_accuracy: 0.7148 - val_loss: 0.9754\n",
            "Epoch 19/20\n",
            "\u001b[1m144/144\u001b[0m \u001b[32m━━━━━━━━━━━━━━━━━━━━\u001b[0m\u001b[37m\u001b[0m \u001b[1m327s\u001b[0m 2s/step - accuracy: 0.7394 - loss: 0.9360 - val_accuracy: 0.7207 - val_loss: 0.9798\n",
            "Epoch 20/20\n",
            "\u001b[1m144/144\u001b[0m \u001b[32m━━━━━━━━━━━━━━━━━━━━\u001b[0m\u001b[37m\u001b[0m \u001b[1m324s\u001b[0m 2s/step - accuracy: 0.7363 - loss: 0.9470 - val_accuracy: 0.7114 - val_loss: 0.9907\n",
            "Epoch 20: early stopping\n"
          ]
        }
      ],
      "source": [
        "# Fit the model\n",
        "model2_history = model2.fit(train_generator,\n",
        "                                  epochs= 20,\n",
        "                                  validation_data = val_generator,\n",
        "                                  callbacks= callback1,\n",
        "                                  batch_size=128,\n",
        "                                  verbose = 1)"
      ]
    },
    {
      "cell_type": "code",
      "execution_count": null,
      "id": "f3086fbe-8ab9-434a-a37d-d4fd003b41d2",
      "metadata": {
        "id": "f3086fbe-8ab9-434a-a37d-d4fd003b41d2",
        "outputId": "46642d54-2633-4f85-d0b7-5d8667aef522"
      },
      "outputs": [
        {
          "name": "stdout",
          "output_type": "stream",
          "text": [
            "\u001b[1m43/43\u001b[0m \u001b[32m━━━━━━━━━━━━━━━━━━━━\u001b[0m\u001b[37m\u001b[0m \u001b[1m35s\u001b[0m 816ms/step - accuracy: 0.7241 - loss: 0.9806\n",
            "Test loss:  0.9785054326057434\n",
            "Test accuracy:  0.7107407450675964\n"
          ]
        }
      ],
      "source": [
        "#Checking loss and accuracy on test data\n",
        "test_loss, test_accuracy = model2.evaluate(test_generator, verbose = 1)\n",
        "\n",
        "print('Test loss: ', test_loss)\n",
        "print('Test accuracy: ', test_accuracy)"
      ]
    },
    {
      "cell_type": "markdown",
      "id": "7a76759f-ba58-48e3-9383-85a6d98e7e86",
      "metadata": {
        "id": "7a76759f-ba58-48e3-9383-85a6d98e7e86"
      },
      "source": [
        "##### The model with L2 regularization and dropout has reduced overfitting and performed much better than the L1 regularization model. After 20 epochs it gave 73.6% train accuracy, 71% validation accuracy and 71% test accuracy."
      ]
    },
    {
      "cell_type": "code",
      "execution_count": null,
      "id": "06ed4086-2e25-416f-815a-640e4491ef5d",
      "metadata": {
        "id": "06ed4086-2e25-416f-815a-640e4491ef5d"
      },
      "outputs": [],
      "source": [
        "#Saving the model\n",
        "from tensorflow.keras.models import save_model\n",
        "model_path = 'C:/Users/Administrator/Desktop/tensor/model2.keras'\n",
        "\n",
        "# Save the model architecture and weights\n",
        "model2.save(model_path)"
      ]
    },
    {
      "cell_type": "markdown",
      "id": "4fd79eb5-10cd-4e6f-8151-f52676264c34",
      "metadata": {
        "id": "4fd79eb5-10cd-4e6f-8151-f52676264c34"
      },
      "source": [
        "## Third Model"
      ]
    },
    {
      "cell_type": "markdown",
      "id": "33bb0927-b6d7-48af-a6f0-6d9e85a0f7f3",
      "metadata": {
        "id": "33bb0927-b6d7-48af-a6f0-6d9e85a0f7f3"
      },
      "source": [
        "### Adding more Dense Layers and removing regularization."
      ]
    },
    {
      "cell_type": "code",
      "execution_count": null,
      "id": "eac1af7b-3616-4407-8a2a-c6111b27e42b",
      "metadata": {
        "id": "eac1af7b-3616-4407-8a2a-c6111b27e42b",
        "outputId": "15963161-3c5d-4769-9aa0-77975b8f04c6"
      },
      "outputs": [
        {
          "data": {
            "text/html": [
              "<pre style=\"white-space:pre;overflow-x:auto;line-height:normal;font-family:Menlo,'DejaVu Sans Mono',consolas,'Courier New',monospace\"><span style=\"font-weight: bold\">Model: \"sequential_8\"</span>\n",
              "</pre>\n"
            ],
            "text/plain": [
              "\u001b[1mModel: \"sequential_8\"\u001b[0m\n"
            ]
          },
          "metadata": {},
          "output_type": "display_data"
        },
        {
          "data": {
            "text/html": [
              "<pre style=\"white-space:pre;overflow-x:auto;line-height:normal;font-family:Menlo,'DejaVu Sans Mono',consolas,'Courier New',monospace\">┏━━━━━━━━━━━━━━━━━━━━━━━━━━━━━━━━━━━━━━┳━━━━━━━━━━━━━━━━━━━━━━━━━━━━━┳━━━━━━━━━━━━━━━━━┓\n",
              "┃<span style=\"font-weight: bold\"> Layer (type)                         </span>┃<span style=\"font-weight: bold\"> Output Shape                </span>┃<span style=\"font-weight: bold\">         Param # </span>┃\n",
              "┡━━━━━━━━━━━━━━━━━━━━━━━━━━━━━━━━━━━━━━╇━━━━━━━━━━━━━━━━━━━━━━━━━━━━━╇━━━━━━━━━━━━━━━━━┩\n",
              "│ conv2d_17 (<span style=\"color: #0087ff; text-decoration-color: #0087ff\">Conv2D</span>)                   │ (<span style=\"color: #00d7ff; text-decoration-color: #00d7ff\">None</span>, <span style=\"color: #00af00; text-decoration-color: #00af00\">254</span>, <span style=\"color: #00af00; text-decoration-color: #00af00\">254</span>, <span style=\"color: #00af00; text-decoration-color: #00af00\">32</span>)        │             <span style=\"color: #00af00; text-decoration-color: #00af00\">896</span> │\n",
              "├──────────────────────────────────────┼─────────────────────────────┼─────────────────┤\n",
              "│ max_pooling2d_17 (<span style=\"color: #0087ff; text-decoration-color: #0087ff\">MaxPooling2D</span>)      │ (<span style=\"color: #00d7ff; text-decoration-color: #00d7ff\">None</span>, <span style=\"color: #00af00; text-decoration-color: #00af00\">127</span>, <span style=\"color: #00af00; text-decoration-color: #00af00\">127</span>, <span style=\"color: #00af00; text-decoration-color: #00af00\">32</span>)        │               <span style=\"color: #00af00; text-decoration-color: #00af00\">0</span> │\n",
              "├──────────────────────────────────────┼─────────────────────────────┼─────────────────┤\n",
              "│ conv2d_18 (<span style=\"color: #0087ff; text-decoration-color: #0087ff\">Conv2D</span>)                   │ (<span style=\"color: #00d7ff; text-decoration-color: #00d7ff\">None</span>, <span style=\"color: #00af00; text-decoration-color: #00af00\">125</span>, <span style=\"color: #00af00; text-decoration-color: #00af00\">125</span>, <span style=\"color: #00af00; text-decoration-color: #00af00\">32</span>)        │           <span style=\"color: #00af00; text-decoration-color: #00af00\">9,248</span> │\n",
              "├──────────────────────────────────────┼─────────────────────────────┼─────────────────┤\n",
              "│ max_pooling2d_18 (<span style=\"color: #0087ff; text-decoration-color: #0087ff\">MaxPooling2D</span>)      │ (<span style=\"color: #00d7ff; text-decoration-color: #00d7ff\">None</span>, <span style=\"color: #00af00; text-decoration-color: #00af00\">62</span>, <span style=\"color: #00af00; text-decoration-color: #00af00\">62</span>, <span style=\"color: #00af00; text-decoration-color: #00af00\">32</span>)          │               <span style=\"color: #00af00; text-decoration-color: #00af00\">0</span> │\n",
              "├──────────────────────────────────────┼─────────────────────────────┼─────────────────┤\n",
              "│ conv2d_19 (<span style=\"color: #0087ff; text-decoration-color: #0087ff\">Conv2D</span>)                   │ (<span style=\"color: #00d7ff; text-decoration-color: #00d7ff\">None</span>, <span style=\"color: #00af00; text-decoration-color: #00af00\">60</span>, <span style=\"color: #00af00; text-decoration-color: #00af00\">60</span>, <span style=\"color: #00af00; text-decoration-color: #00af00\">32</span>)          │           <span style=\"color: #00af00; text-decoration-color: #00af00\">9,248</span> │\n",
              "├──────────────────────────────────────┼─────────────────────────────┼─────────────────┤\n",
              "│ max_pooling2d_19 (<span style=\"color: #0087ff; text-decoration-color: #0087ff\">MaxPooling2D</span>)      │ (<span style=\"color: #00d7ff; text-decoration-color: #00d7ff\">None</span>, <span style=\"color: #00af00; text-decoration-color: #00af00\">30</span>, <span style=\"color: #00af00; text-decoration-color: #00af00\">30</span>, <span style=\"color: #00af00; text-decoration-color: #00af00\">32</span>)          │               <span style=\"color: #00af00; text-decoration-color: #00af00\">0</span> │\n",
              "├──────────────────────────────────────┼─────────────────────────────┼─────────────────┤\n",
              "│ flatten_8 (<span style=\"color: #0087ff; text-decoration-color: #0087ff\">Flatten</span>)                  │ (<span style=\"color: #00d7ff; text-decoration-color: #00d7ff\">None</span>, <span style=\"color: #00af00; text-decoration-color: #00af00\">28800</span>)               │               <span style=\"color: #00af00; text-decoration-color: #00af00\">0</span> │\n",
              "├──────────────────────────────────────┼─────────────────────────────┼─────────────────┤\n",
              "│ dense_21 (<span style=\"color: #0087ff; text-decoration-color: #0087ff\">Dense</span>)                     │ (<span style=\"color: #00d7ff; text-decoration-color: #00d7ff\">None</span>, <span style=\"color: #00af00; text-decoration-color: #00af00\">64</span>)                  │       <span style=\"color: #00af00; text-decoration-color: #00af00\">1,843,264</span> │\n",
              "├──────────────────────────────────────┼─────────────────────────────┼─────────────────┤\n",
              "│ dropout_10 (<span style=\"color: #0087ff; text-decoration-color: #0087ff\">Dropout</span>)                 │ (<span style=\"color: #00d7ff; text-decoration-color: #00d7ff\">None</span>, <span style=\"color: #00af00; text-decoration-color: #00af00\">64</span>)                  │               <span style=\"color: #00af00; text-decoration-color: #00af00\">0</span> │\n",
              "├──────────────────────────────────────┼─────────────────────────────┼─────────────────┤\n",
              "│ dense_22 (<span style=\"color: #0087ff; text-decoration-color: #0087ff\">Dense</span>)                     │ (<span style=\"color: #00d7ff; text-decoration-color: #00d7ff\">None</span>, <span style=\"color: #00af00; text-decoration-color: #00af00\">32</span>)                  │           <span style=\"color: #00af00; text-decoration-color: #00af00\">2,080</span> │\n",
              "├──────────────────────────────────────┼─────────────────────────────┼─────────────────┤\n",
              "│ dropout_11 (<span style=\"color: #0087ff; text-decoration-color: #0087ff\">Dropout</span>)                 │ (<span style=\"color: #00d7ff; text-decoration-color: #00d7ff\">None</span>, <span style=\"color: #00af00; text-decoration-color: #00af00\">32</span>)                  │               <span style=\"color: #00af00; text-decoration-color: #00af00\">0</span> │\n",
              "├──────────────────────────────────────┼─────────────────────────────┼─────────────────┤\n",
              "│ dense_23 (<span style=\"color: #0087ff; text-decoration-color: #0087ff\">Dense</span>)                     │ (<span style=\"color: #00d7ff; text-decoration-color: #00d7ff\">None</span>, <span style=\"color: #00af00; text-decoration-color: #00af00\">16</span>)                  │             <span style=\"color: #00af00; text-decoration-color: #00af00\">528</span> │\n",
              "├──────────────────────────────────────┼─────────────────────────────┼─────────────────┤\n",
              "│ dropout_12 (<span style=\"color: #0087ff; text-decoration-color: #0087ff\">Dropout</span>)                 │ (<span style=\"color: #00d7ff; text-decoration-color: #00d7ff\">None</span>, <span style=\"color: #00af00; text-decoration-color: #00af00\">16</span>)                  │               <span style=\"color: #00af00; text-decoration-color: #00af00\">0</span> │\n",
              "├──────────────────────────────────────┼─────────────────────────────┼─────────────────┤\n",
              "│ dense_24 (<span style=\"color: #0087ff; text-decoration-color: #0087ff\">Dense</span>)                     │ (<span style=\"color: #00d7ff; text-decoration-color: #00d7ff\">None</span>, <span style=\"color: #00af00; text-decoration-color: #00af00\">10</span>)                  │             <span style=\"color: #00af00; text-decoration-color: #00af00\">170</span> │\n",
              "└──────────────────────────────────────┴─────────────────────────────┴─────────────────┘\n",
              "</pre>\n"
            ],
            "text/plain": [
              "┏━━━━━━━━━━━━━━━━━━━━━━━━━━━━━━━━━━━━━━┳━━━━━━━━━━━━━━━━━━━━━━━━━━━━━┳━━━━━━━━━━━━━━━━━┓\n",
              "┃\u001b[1m \u001b[0m\u001b[1mLayer (type)                        \u001b[0m\u001b[1m \u001b[0m┃\u001b[1m \u001b[0m\u001b[1mOutput Shape               \u001b[0m\u001b[1m \u001b[0m┃\u001b[1m \u001b[0m\u001b[1m        Param #\u001b[0m\u001b[1m \u001b[0m┃\n",
              "┡━━━━━━━━━━━━━━━━━━━━━━━━━━━━━━━━━━━━━━╇━━━━━━━━━━━━━━━━━━━━━━━━━━━━━╇━━━━━━━━━━━━━━━━━┩\n",
              "│ conv2d_17 (\u001b[38;5;33mConv2D\u001b[0m)                   │ (\u001b[38;5;45mNone\u001b[0m, \u001b[38;5;34m254\u001b[0m, \u001b[38;5;34m254\u001b[0m, \u001b[38;5;34m32\u001b[0m)        │             \u001b[38;5;34m896\u001b[0m │\n",
              "├──────────────────────────────────────┼─────────────────────────────┼─────────────────┤\n",
              "│ max_pooling2d_17 (\u001b[38;5;33mMaxPooling2D\u001b[0m)      │ (\u001b[38;5;45mNone\u001b[0m, \u001b[38;5;34m127\u001b[0m, \u001b[38;5;34m127\u001b[0m, \u001b[38;5;34m32\u001b[0m)        │               \u001b[38;5;34m0\u001b[0m │\n",
              "├──────────────────────────────────────┼─────────────────────────────┼─────────────────┤\n",
              "│ conv2d_18 (\u001b[38;5;33mConv2D\u001b[0m)                   │ (\u001b[38;5;45mNone\u001b[0m, \u001b[38;5;34m125\u001b[0m, \u001b[38;5;34m125\u001b[0m, \u001b[38;5;34m32\u001b[0m)        │           \u001b[38;5;34m9,248\u001b[0m │\n",
              "├──────────────────────────────────────┼─────────────────────────────┼─────────────────┤\n",
              "│ max_pooling2d_18 (\u001b[38;5;33mMaxPooling2D\u001b[0m)      │ (\u001b[38;5;45mNone\u001b[0m, \u001b[38;5;34m62\u001b[0m, \u001b[38;5;34m62\u001b[0m, \u001b[38;5;34m32\u001b[0m)          │               \u001b[38;5;34m0\u001b[0m │\n",
              "├──────────────────────────────────────┼─────────────────────────────┼─────────────────┤\n",
              "│ conv2d_19 (\u001b[38;5;33mConv2D\u001b[0m)                   │ (\u001b[38;5;45mNone\u001b[0m, \u001b[38;5;34m60\u001b[0m, \u001b[38;5;34m60\u001b[0m, \u001b[38;5;34m32\u001b[0m)          │           \u001b[38;5;34m9,248\u001b[0m │\n",
              "├──────────────────────────────────────┼─────────────────────────────┼─────────────────┤\n",
              "│ max_pooling2d_19 (\u001b[38;5;33mMaxPooling2D\u001b[0m)      │ (\u001b[38;5;45mNone\u001b[0m, \u001b[38;5;34m30\u001b[0m, \u001b[38;5;34m30\u001b[0m, \u001b[38;5;34m32\u001b[0m)          │               \u001b[38;5;34m0\u001b[0m │\n",
              "├──────────────────────────────────────┼─────────────────────────────┼─────────────────┤\n",
              "│ flatten_8 (\u001b[38;5;33mFlatten\u001b[0m)                  │ (\u001b[38;5;45mNone\u001b[0m, \u001b[38;5;34m28800\u001b[0m)               │               \u001b[38;5;34m0\u001b[0m │\n",
              "├──────────────────────────────────────┼─────────────────────────────┼─────────────────┤\n",
              "│ dense_21 (\u001b[38;5;33mDense\u001b[0m)                     │ (\u001b[38;5;45mNone\u001b[0m, \u001b[38;5;34m64\u001b[0m)                  │       \u001b[38;5;34m1,843,264\u001b[0m │\n",
              "├──────────────────────────────────────┼─────────────────────────────┼─────────────────┤\n",
              "│ dropout_10 (\u001b[38;5;33mDropout\u001b[0m)                 │ (\u001b[38;5;45mNone\u001b[0m, \u001b[38;5;34m64\u001b[0m)                  │               \u001b[38;5;34m0\u001b[0m │\n",
              "├──────────────────────────────────────┼─────────────────────────────┼─────────────────┤\n",
              "│ dense_22 (\u001b[38;5;33mDense\u001b[0m)                     │ (\u001b[38;5;45mNone\u001b[0m, \u001b[38;5;34m32\u001b[0m)                  │           \u001b[38;5;34m2,080\u001b[0m │\n",
              "├──────────────────────────────────────┼─────────────────────────────┼─────────────────┤\n",
              "│ dropout_11 (\u001b[38;5;33mDropout\u001b[0m)                 │ (\u001b[38;5;45mNone\u001b[0m, \u001b[38;5;34m32\u001b[0m)                  │               \u001b[38;5;34m0\u001b[0m │\n",
              "├──────────────────────────────────────┼─────────────────────────────┼─────────────────┤\n",
              "│ dense_23 (\u001b[38;5;33mDense\u001b[0m)                     │ (\u001b[38;5;45mNone\u001b[0m, \u001b[38;5;34m16\u001b[0m)                  │             \u001b[38;5;34m528\u001b[0m │\n",
              "├──────────────────────────────────────┼─────────────────────────────┼─────────────────┤\n",
              "│ dropout_12 (\u001b[38;5;33mDropout\u001b[0m)                 │ (\u001b[38;5;45mNone\u001b[0m, \u001b[38;5;34m16\u001b[0m)                  │               \u001b[38;5;34m0\u001b[0m │\n",
              "├──────────────────────────────────────┼─────────────────────────────┼─────────────────┤\n",
              "│ dense_24 (\u001b[38;5;33mDense\u001b[0m)                     │ (\u001b[38;5;45mNone\u001b[0m, \u001b[38;5;34m10\u001b[0m)                  │             \u001b[38;5;34m170\u001b[0m │\n",
              "└──────────────────────────────────────┴─────────────────────────────┴─────────────────┘\n"
            ]
          },
          "metadata": {},
          "output_type": "display_data"
        },
        {
          "data": {
            "text/html": [
              "<pre style=\"white-space:pre;overflow-x:auto;line-height:normal;font-family:Menlo,'DejaVu Sans Mono',consolas,'Courier New',monospace\"><span style=\"font-weight: bold\"> Total params: </span><span style=\"color: #00af00; text-decoration-color: #00af00\">1,865,434</span> (7.12 MB)\n",
              "</pre>\n"
            ],
            "text/plain": [
              "\u001b[1m Total params: \u001b[0m\u001b[38;5;34m1,865,434\u001b[0m (7.12 MB)\n"
            ]
          },
          "metadata": {},
          "output_type": "display_data"
        },
        {
          "data": {
            "text/html": [
              "<pre style=\"white-space:pre;overflow-x:auto;line-height:normal;font-family:Menlo,'DejaVu Sans Mono',consolas,'Courier New',monospace\"><span style=\"font-weight: bold\"> Trainable params: </span><span style=\"color: #00af00; text-decoration-color: #00af00\">1,865,434</span> (7.12 MB)\n",
              "</pre>\n"
            ],
            "text/plain": [
              "\u001b[1m Trainable params: \u001b[0m\u001b[38;5;34m1,865,434\u001b[0m (7.12 MB)\n"
            ]
          },
          "metadata": {},
          "output_type": "display_data"
        },
        {
          "data": {
            "text/html": [
              "<pre style=\"white-space:pre;overflow-x:auto;line-height:normal;font-family:Menlo,'DejaVu Sans Mono',consolas,'Courier New',monospace\"><span style=\"font-weight: bold\"> Non-trainable params: </span><span style=\"color: #00af00; text-decoration-color: #00af00\">0</span> (0.00 B)\n",
              "</pre>\n"
            ],
            "text/plain": [
              "\u001b[1m Non-trainable params: \u001b[0m\u001b[38;5;34m0\u001b[0m (0.00 B)\n"
            ]
          },
          "metadata": {},
          "output_type": "display_data"
        }
      ],
      "source": [
        "# Instantiating the model\n",
        "model3 = Sequential([\n",
        "    Conv2D(filters=32, kernel_size=(3, 3), activation='relu', input_shape=(256, 256, 3)),\n",
        "    MaxPooling2D(pool_size=(2, 2)),\n",
        "    Conv2D(filters=32, kernel_size=(3, 3), activation='relu'),\n",
        "    MaxPooling2D(pool_size=(2, 2)),\n",
        "    Conv2D(filters=32, kernel_size=(3, 3), activation='relu'), # Additional layer\n",
        "    MaxPooling2D(pool_size=(2, 2)),# Additional layer\n",
        "    Flatten(),\n",
        "    Dense(64, activation='relu'), # Additional Dense Layer\n",
        "    Dropout(0.2), # Added  Dropout\n",
        "    Dense(32, activation='relu'),\n",
        "    Dropout(0.2), # Added  Dropout\n",
        "    Dense(16, activation='relu'),\n",
        "    Dropout(0.2), # Added  Dropout\n",
        "    Dense(10, activation='softmax')\n",
        "])\n",
        "# Compiling the model\n",
        "model3.compile(optimizer='adam',\n",
        "                       loss='categorical_crossentropy',\n",
        "                       metrics=['accuracy'])\n",
        "\n",
        "# Printing model summary\n",
        "model3.summary()"
      ]
    },
    {
      "cell_type": "code",
      "execution_count": null,
      "id": "e4186b6a-833d-4697-9b0c-8ade2d494a93",
      "metadata": {
        "id": "e4186b6a-833d-4697-9b0c-8ade2d494a93",
        "outputId": "62a9f56e-7832-4bd8-84fb-18d9537cfa79"
      },
      "outputs": [
        {
          "name": "stdout",
          "output_type": "stream",
          "text": [
            "Epoch 1/30\n",
            "\u001b[1m144/144\u001b[0m \u001b[32m━━━━━━━━━━━━━━━━━━━━\u001b[0m\u001b[37m\u001b[0m \u001b[1m290s\u001b[0m 2s/step - accuracy: 0.2085 - loss: 2.0860 - val_accuracy: 0.4855 - val_loss: 1.4694\n",
            "Epoch 2/30\n",
            "\u001b[1m144/144\u001b[0m \u001b[32m━━━━━━━━━━━━━━━━━━━━\u001b[0m\u001b[37m\u001b[0m \u001b[1m291s\u001b[0m 2s/step - accuracy: 0.4039 - loss: 1.6016 - val_accuracy: 0.5910 - val_loss: 1.1936\n",
            "Epoch 3/30\n",
            "\u001b[1m144/144\u001b[0m \u001b[32m━━━━━━━━━━━━━━━━━━━━\u001b[0m\u001b[37m\u001b[0m \u001b[1m290s\u001b[0m 2s/step - accuracy: 0.4975 - loss: 1.3703 - val_accuracy: 0.6123 - val_loss: 1.1095\n",
            "Epoch 4/30\n",
            "\u001b[1m144/144\u001b[0m \u001b[32m━━━━━━━━━━━━━━━━━━━━\u001b[0m\u001b[37m\u001b[0m \u001b[1m291s\u001b[0m 2s/step - accuracy: 0.5569 - loss: 1.2301 - val_accuracy: 0.6796 - val_loss: 0.9448\n",
            "Epoch 5/30\n",
            "\u001b[1m144/144\u001b[0m \u001b[32m━━━━━━━━━━━━━━━━━━━━\u001b[0m\u001b[37m\u001b[0m \u001b[1m292s\u001b[0m 2s/step - accuracy: 0.5908 - loss: 1.1466 - val_accuracy: 0.7105 - val_loss: 0.8816\n",
            "Epoch 6/30\n",
            "\u001b[1m144/144\u001b[0m \u001b[32m━━━━━━━━━━━━━━━━━━━━\u001b[0m\u001b[37m\u001b[0m \u001b[1m291s\u001b[0m 2s/step - accuracy: 0.6343 - loss: 1.0351 - val_accuracy: 0.7244 - val_loss: 0.7679\n",
            "Epoch 7/30\n",
            "\u001b[1m144/144\u001b[0m \u001b[32m━━━━━━━━━━━━━━━━━━━━\u001b[0m\u001b[37m\u001b[0m \u001b[1m295s\u001b[0m 2s/step - accuracy: 0.6839 - loss: 0.9053 - val_accuracy: 0.7262 - val_loss: 0.7606\n",
            "Epoch 8/30\n",
            "\u001b[1m144/144\u001b[0m \u001b[32m━━━━━━━━━━━━━━━━━━━━\u001b[0m\u001b[37m\u001b[0m \u001b[1m291s\u001b[0m 2s/step - accuracy: 0.7135 - loss: 0.8509 - val_accuracy: 0.7457 - val_loss: 0.7234\n",
            "Epoch 9/30\n",
            "\u001b[1m144/144\u001b[0m \u001b[32m━━━━━━━━━━━━━━━━━━━━\u001b[0m\u001b[37m\u001b[0m \u001b[1m289s\u001b[0m 2s/step - accuracy: 0.7343 - loss: 0.7867 - val_accuracy: 0.7333 - val_loss: 0.8072\n",
            "Epoch 10/30\n",
            "\u001b[1m144/144\u001b[0m \u001b[32m━━━━━━━━━━━━━━━━━━━━\u001b[0m\u001b[37m\u001b[0m \u001b[1m287s\u001b[0m 2s/step - accuracy: 0.7576 - loss: 0.7258 - val_accuracy: 0.7864 - val_loss: 0.6318\n",
            "Epoch 11/30\n",
            "\u001b[1m144/144\u001b[0m \u001b[32m━━━━━━━━━━━━━━━━━━━━\u001b[0m\u001b[37m\u001b[0m \u001b[1m285s\u001b[0m 2s/step - accuracy: 0.7789 - loss: 0.6631 - val_accuracy: 0.7880 - val_loss: 0.6518\n",
            "Epoch 12/30\n",
            "\u001b[1m144/144\u001b[0m \u001b[32m━━━━━━━━━━━━━━━━━━━━\u001b[0m\u001b[37m\u001b[0m \u001b[1m283s\u001b[0m 2s/step - accuracy: 0.7974 - loss: 0.6133 - val_accuracy: 0.8182 - val_loss: 0.5768\n",
            "Epoch 13/30\n",
            "\u001b[1m144/144\u001b[0m \u001b[32m━━━━━━━━━━━━━━━━━━━━\u001b[0m\u001b[37m\u001b[0m \u001b[1m282s\u001b[0m 2s/step - accuracy: 0.8268 - loss: 0.5429 - val_accuracy: 0.7904 - val_loss: 0.6385\n",
            "Epoch 14/30\n",
            "\u001b[1m144/144\u001b[0m \u001b[32m━━━━━━━━━━━━━━━━━━━━\u001b[0m\u001b[37m\u001b[0m \u001b[1m282s\u001b[0m 2s/step - accuracy: 0.8419 - loss: 0.5016 - val_accuracy: 0.8096 - val_loss: 0.6223\n",
            "Epoch 14: early stopping\n"
          ]
        }
      ],
      "source": [
        "# Stopping Criteria - changing to validation accurcay\n",
        "callback2 = EarlyStopping(monitor='val_accuracy', mode='max', verbose = 1, patience = 2)\n",
        "\n",
        "model3_history = model3.fit(train_generator,\n",
        "                                  epochs= 30,               #Increasing the number of epochs\n",
        "                                  validation_data = val_generator,\n",
        "                                  callbacks= callback2,\n",
        "                                  batch_size=128,\n",
        "                                  verbose = 1)"
      ]
    },
    {
      "cell_type": "code",
      "execution_count": null,
      "id": "77da6bd6-4ad1-420d-a560-3c7706be4532",
      "metadata": {
        "id": "77da6bd6-4ad1-420d-a560-3c7706be4532",
        "outputId": "995d4380-2fb8-4a55-ef1e-6fb06eeb59dd"
      },
      "outputs": [
        {
          "name": "stdout",
          "output_type": "stream",
          "text": [
            "\u001b[1m43/43\u001b[0m \u001b[32m━━━━━━━━━━━━━━━━━━━━\u001b[0m\u001b[37m\u001b[0m \u001b[1m37s\u001b[0m 875ms/step - accuracy: 0.8232 - loss: 0.5780\n",
            "Test loss:  0.6077938079833984\n",
            "Test accuracy:  0.8131481409072876\n"
          ]
        }
      ],
      "source": [
        "#Checking loss and accuracy on test data\n",
        "test_loss, test_accuracy = model3.evaluate(test_generator, verbose = 1)\n",
        "\n",
        "print('Test loss: ', test_loss)\n",
        "print('Test accuracy: ', test_accuracy)"
      ]
    },
    {
      "cell_type": "markdown",
      "id": "ee203c3f-d8d1-4fed-856a-1360e8b9ca49",
      "metadata": {
        "id": "ee203c3f-d8d1-4fed-856a-1360e8b9ca49"
      },
      "source": [
        "##### This dense model performed much better than all the previous models. After 14 epochs(early stopping) it gave 84 % train accuracy, 80.9% validation accuracy and 81% test accuracy."
      ]
    },
    {
      "cell_type": "code",
      "execution_count": null,
      "id": "ebf3c6ad-ed60-4bfc-9af8-bd1c1db850fb",
      "metadata": {
        "id": "ebf3c6ad-ed60-4bfc-9af8-bd1c1db850fb"
      },
      "outputs": [],
      "source": [
        "#Saving the model\n",
        "from tensorflow.keras.models import save_model\n",
        "model_path = 'C:/Users/Administrator/Desktop/tensor/model3.keras'\n",
        "\n",
        "# Save the model architecture and weights\n",
        "model3.save(model_path)"
      ]
    },
    {
      "cell_type": "markdown",
      "id": "abbd15d3-149b-432a-8071-bdfaaa8c7222",
      "metadata": {
        "id": "abbd15d3-149b-432a-8071-bdfaaa8c7222"
      },
      "source": [
        "#### Since dense deep learning models seem to provide better accuracy it will be better to use the deep pre-trained models."
      ]
    },
    {
      "cell_type": "markdown",
      "source": [
        "## Moving to colab as the transfer models will need GPU to run."
      ],
      "metadata": {
        "id": "UpKr14M4U0Fq"
      },
      "id": "UpKr14M4U0Fq"
    },
    {
      "cell_type": "code",
      "source": [
        "# Mount GDRIVE\n",
        "from google.colab import drive\n",
        "drive.mount('/content/drive')"
      ],
      "metadata": {
        "colab": {
          "base_uri": "https://localhost:8080/"
        },
        "id": "KxWVICSVU9fa",
        "outputId": "a4d9339a-03bf-4759-a6b4-98403d51e21f"
      },
      "id": "KxWVICSVU9fa",
      "execution_count": 2,
      "outputs": [
        {
          "output_type": "stream",
          "name": "stdout",
          "text": [
            "Mounted at /content/drive\n"
          ]
        }
      ]
    },
    {
      "cell_type": "code",
      "source": [
        "train_folder = '/content/drive/MyDrive/Project/eurosat_data/split/train'\n",
        "\n",
        "test_folder = '/content/drive/MyDrive/Project/eurosat_data/split/test'\n",
        "\n",
        "# Normalize images\n",
        "train_gen = ImageDataGenerator(rescale=1./255, validation_split = 0.15)\n",
        "test_gen = ImageDataGenerator(rescale=1./255)\n",
        "\n",
        "#Importing data - 65% Train, 15% Validation and 20% Test\n",
        "train_generator = train_gen.flow_from_directory(train_folder,class_mode = 'categorical', subset ='training', batch_size=128,shuffle=True,seed=42)\n",
        "\n",
        "val_generator= train_gen.flow_from_directory(train_folder,class_mode= 'categorical',subset = \"validation\",batch_size=128,shuffle=True,seed=42)\n",
        "\n",
        "test_generator= test_gen.flow_from_directory(test_folder,class_mode= 'categorical',batch_size=128,shuffle=False, seed=42)\n",
        "\n",
        "# Creating final datasets\n",
        "\n",
        "train_images, train_labels = next(train_generator)\n",
        "test_images, test_labels = next(test_generator)\n",
        "val_images, val_labels = next(val_generator)"
      ],
      "metadata": {
        "id": "kkhvAdKSWb42",
        "colab": {
          "base_uri": "https://localhost:8080/"
        },
        "outputId": "282de5ed-1afb-4bc1-b87e-d5feceacbb73"
      },
      "id": "kkhvAdKSWb42",
      "execution_count": 3,
      "outputs": [
        {
          "output_type": "stream",
          "name": "stdout",
          "text": [
            "Found 18361 images belonging to 10 classes.\n",
            "Found 3240 images belonging to 10 classes.\n",
            "Found 5401 images belonging to 10 classes.\n"
          ]
        }
      ]
    },
    {
      "cell_type": "markdown",
      "source": [
        "## Fourth Model"
      ],
      "metadata": {
        "id": "ZxPHmdwmDxQz"
      },
      "id": "ZxPHmdwmDxQz"
    },
    {
      "cell_type": "markdown",
      "id": "5aa9bef4-def5-42ea-8084-df148cad19fa",
      "metadata": {
        "id": "5aa9bef4-def5-42ea-8084-df148cad19fa"
      },
      "source": [
        "### Transfer Learning: VGG19 with additional dense and dropout layers"
      ]
    },
    {
      "cell_type": "code",
      "execution_count": null,
      "id": "76595dc2-2441-48aa-8b0a-0d7aa8ce20ee",
      "metadata": {
        "id": "76595dc2-2441-48aa-8b0a-0d7aa8ce20ee"
      },
      "outputs": [],
      "source": [
        "#Transfer Learning\n",
        "from keras.applications import VGG19"
      ]
    },
    {
      "cell_type": "code",
      "execution_count": null,
      "id": "663c24cf-a03d-4ba1-9b0a-d085fc9b4ee8",
      "metadata": {
        "colab": {
          "base_uri": "https://localhost:8080/"
        },
        "id": "663c24cf-a03d-4ba1-9b0a-d085fc9b4ee8",
        "outputId": "2be01322-854f-4a52-c716-39fab57b2dd3"
      },
      "outputs": [
        {
          "name": "stdout",
          "output_type": "stream",
          "text": [
            "Downloading data from https://storage.googleapis.com/tensorflow/keras-applications/vgg19/vgg19_weights_tf_dim_ordering_tf_kernels_notop.h5\n",
            "80134624/80134624 [==============================] - 0s 0us/step\n"
          ]
        }
      ],
      "source": [
        "vgg19 = VGG19(weights='imagenet',\n",
        "              include_top=False,\n",
        "              input_shape=(256, 256, 3))"
      ]
    },
    {
      "cell_type": "code",
      "execution_count": null,
      "id": "1acfe863-f35a-47a9-a639-da253d48fa01",
      "metadata": {
        "id": "1acfe863-f35a-47a9-a639-da253d48fa01",
        "outputId": "69ed09f1-a7d2-491b-b107-9c8c4e4f5f4b"
      },
      "outputs": [
        {
          "data": {
            "text/html": [
              "<pre style=\"white-space:pre;overflow-x:auto;line-height:normal;font-family:Menlo,'DejaVu Sans Mono',consolas,'Courier New',monospace\"><span style=\"font-weight: bold\">Model: \"vgg19\"</span>\n",
              "</pre>\n"
            ],
            "text/plain": [
              "\u001b[1mModel: \"vgg19\"\u001b[0m\n"
            ]
          },
          "metadata": {},
          "output_type": "display_data"
        },
        {
          "data": {
            "text/html": [
              "<pre style=\"white-space:pre;overflow-x:auto;line-height:normal;font-family:Menlo,'DejaVu Sans Mono',consolas,'Courier New',monospace\">┏━━━━━━━━━━━━━━━━━━━━━━━━━━━━━━━━━━━━━━┳━━━━━━━━━━━━━━━━━━━━━━━━━━━━━┳━━━━━━━━━━━━━━━━━┓\n",
              "┃<span style=\"font-weight: bold\"> Layer (type)                         </span>┃<span style=\"font-weight: bold\"> Output Shape                </span>┃<span style=\"font-weight: bold\">         Param # </span>┃\n",
              "┡━━━━━━━━━━━━━━━━━━━━━━━━━━━━━━━━━━━━━━╇━━━━━━━━━━━━━━━━━━━━━━━━━━━━━╇━━━━━━━━━━━━━━━━━┩\n",
              "│ input_layer_1 (<span style=\"color: #0087ff; text-decoration-color: #0087ff\">InputLayer</span>)           │ (<span style=\"color: #00d7ff; text-decoration-color: #00d7ff\">None</span>, <span style=\"color: #00af00; text-decoration-color: #00af00\">256</span>, <span style=\"color: #00af00; text-decoration-color: #00af00\">256</span>, <span style=\"color: #00af00; text-decoration-color: #00af00\">3</span>)         │               <span style=\"color: #00af00; text-decoration-color: #00af00\">0</span> │\n",
              "├──────────────────────────────────────┼─────────────────────────────┼─────────────────┤\n",
              "│ block1_conv1 (<span style=\"color: #0087ff; text-decoration-color: #0087ff\">Conv2D</span>)                │ (<span style=\"color: #00d7ff; text-decoration-color: #00d7ff\">None</span>, <span style=\"color: #00af00; text-decoration-color: #00af00\">256</span>, <span style=\"color: #00af00; text-decoration-color: #00af00\">256</span>, <span style=\"color: #00af00; text-decoration-color: #00af00\">64</span>)        │           <span style=\"color: #00af00; text-decoration-color: #00af00\">1,792</span> │\n",
              "├──────────────────────────────────────┼─────────────────────────────┼─────────────────┤\n",
              "│ block1_conv2 (<span style=\"color: #0087ff; text-decoration-color: #0087ff\">Conv2D</span>)                │ (<span style=\"color: #00d7ff; text-decoration-color: #00d7ff\">None</span>, <span style=\"color: #00af00; text-decoration-color: #00af00\">256</span>, <span style=\"color: #00af00; text-decoration-color: #00af00\">256</span>, <span style=\"color: #00af00; text-decoration-color: #00af00\">64</span>)        │          <span style=\"color: #00af00; text-decoration-color: #00af00\">36,928</span> │\n",
              "├──────────────────────────────────────┼─────────────────────────────┼─────────────────┤\n",
              "│ block1_pool (<span style=\"color: #0087ff; text-decoration-color: #0087ff\">MaxPooling2D</span>)           │ (<span style=\"color: #00d7ff; text-decoration-color: #00d7ff\">None</span>, <span style=\"color: #00af00; text-decoration-color: #00af00\">128</span>, <span style=\"color: #00af00; text-decoration-color: #00af00\">128</span>, <span style=\"color: #00af00; text-decoration-color: #00af00\">64</span>)        │               <span style=\"color: #00af00; text-decoration-color: #00af00\">0</span> │\n",
              "├──────────────────────────────────────┼─────────────────────────────┼─────────────────┤\n",
              "│ block2_conv1 (<span style=\"color: #0087ff; text-decoration-color: #0087ff\">Conv2D</span>)                │ (<span style=\"color: #00d7ff; text-decoration-color: #00d7ff\">None</span>, <span style=\"color: #00af00; text-decoration-color: #00af00\">128</span>, <span style=\"color: #00af00; text-decoration-color: #00af00\">128</span>, <span style=\"color: #00af00; text-decoration-color: #00af00\">128</span>)       │          <span style=\"color: #00af00; text-decoration-color: #00af00\">73,856</span> │\n",
              "├──────────────────────────────────────┼─────────────────────────────┼─────────────────┤\n",
              "│ block2_conv2 (<span style=\"color: #0087ff; text-decoration-color: #0087ff\">Conv2D</span>)                │ (<span style=\"color: #00d7ff; text-decoration-color: #00d7ff\">None</span>, <span style=\"color: #00af00; text-decoration-color: #00af00\">128</span>, <span style=\"color: #00af00; text-decoration-color: #00af00\">128</span>, <span style=\"color: #00af00; text-decoration-color: #00af00\">128</span>)       │         <span style=\"color: #00af00; text-decoration-color: #00af00\">147,584</span> │\n",
              "├──────────────────────────────────────┼─────────────────────────────┼─────────────────┤\n",
              "│ block2_pool (<span style=\"color: #0087ff; text-decoration-color: #0087ff\">MaxPooling2D</span>)           │ (<span style=\"color: #00d7ff; text-decoration-color: #00d7ff\">None</span>, <span style=\"color: #00af00; text-decoration-color: #00af00\">64</span>, <span style=\"color: #00af00; text-decoration-color: #00af00\">64</span>, <span style=\"color: #00af00; text-decoration-color: #00af00\">128</span>)         │               <span style=\"color: #00af00; text-decoration-color: #00af00\">0</span> │\n",
              "├──────────────────────────────────────┼─────────────────────────────┼─────────────────┤\n",
              "│ block3_conv1 (<span style=\"color: #0087ff; text-decoration-color: #0087ff\">Conv2D</span>)                │ (<span style=\"color: #00d7ff; text-decoration-color: #00d7ff\">None</span>, <span style=\"color: #00af00; text-decoration-color: #00af00\">64</span>, <span style=\"color: #00af00; text-decoration-color: #00af00\">64</span>, <span style=\"color: #00af00; text-decoration-color: #00af00\">256</span>)         │         <span style=\"color: #00af00; text-decoration-color: #00af00\">295,168</span> │\n",
              "├──────────────────────────────────────┼─────────────────────────────┼─────────────────┤\n",
              "│ block3_conv2 (<span style=\"color: #0087ff; text-decoration-color: #0087ff\">Conv2D</span>)                │ (<span style=\"color: #00d7ff; text-decoration-color: #00d7ff\">None</span>, <span style=\"color: #00af00; text-decoration-color: #00af00\">64</span>, <span style=\"color: #00af00; text-decoration-color: #00af00\">64</span>, <span style=\"color: #00af00; text-decoration-color: #00af00\">256</span>)         │         <span style=\"color: #00af00; text-decoration-color: #00af00\">590,080</span> │\n",
              "├──────────────────────────────────────┼─────────────────────────────┼─────────────────┤\n",
              "│ block3_conv3 (<span style=\"color: #0087ff; text-decoration-color: #0087ff\">Conv2D</span>)                │ (<span style=\"color: #00d7ff; text-decoration-color: #00d7ff\">None</span>, <span style=\"color: #00af00; text-decoration-color: #00af00\">64</span>, <span style=\"color: #00af00; text-decoration-color: #00af00\">64</span>, <span style=\"color: #00af00; text-decoration-color: #00af00\">256</span>)         │         <span style=\"color: #00af00; text-decoration-color: #00af00\">590,080</span> │\n",
              "├──────────────────────────────────────┼─────────────────────────────┼─────────────────┤\n",
              "│ block3_conv4 (<span style=\"color: #0087ff; text-decoration-color: #0087ff\">Conv2D</span>)                │ (<span style=\"color: #00d7ff; text-decoration-color: #00d7ff\">None</span>, <span style=\"color: #00af00; text-decoration-color: #00af00\">64</span>, <span style=\"color: #00af00; text-decoration-color: #00af00\">64</span>, <span style=\"color: #00af00; text-decoration-color: #00af00\">256</span>)         │         <span style=\"color: #00af00; text-decoration-color: #00af00\">590,080</span> │\n",
              "├──────────────────────────────────────┼─────────────────────────────┼─────────────────┤\n",
              "│ block3_pool (<span style=\"color: #0087ff; text-decoration-color: #0087ff\">MaxPooling2D</span>)           │ (<span style=\"color: #00d7ff; text-decoration-color: #00d7ff\">None</span>, <span style=\"color: #00af00; text-decoration-color: #00af00\">32</span>, <span style=\"color: #00af00; text-decoration-color: #00af00\">32</span>, <span style=\"color: #00af00; text-decoration-color: #00af00\">256</span>)         │               <span style=\"color: #00af00; text-decoration-color: #00af00\">0</span> │\n",
              "├──────────────────────────────────────┼─────────────────────────────┼─────────────────┤\n",
              "│ block4_conv1 (<span style=\"color: #0087ff; text-decoration-color: #0087ff\">Conv2D</span>)                │ (<span style=\"color: #00d7ff; text-decoration-color: #00d7ff\">None</span>, <span style=\"color: #00af00; text-decoration-color: #00af00\">32</span>, <span style=\"color: #00af00; text-decoration-color: #00af00\">32</span>, <span style=\"color: #00af00; text-decoration-color: #00af00\">512</span>)         │       <span style=\"color: #00af00; text-decoration-color: #00af00\">1,180,160</span> │\n",
              "├──────────────────────────────────────┼─────────────────────────────┼─────────────────┤\n",
              "│ block4_conv2 (<span style=\"color: #0087ff; text-decoration-color: #0087ff\">Conv2D</span>)                │ (<span style=\"color: #00d7ff; text-decoration-color: #00d7ff\">None</span>, <span style=\"color: #00af00; text-decoration-color: #00af00\">32</span>, <span style=\"color: #00af00; text-decoration-color: #00af00\">32</span>, <span style=\"color: #00af00; text-decoration-color: #00af00\">512</span>)         │       <span style=\"color: #00af00; text-decoration-color: #00af00\">2,359,808</span> │\n",
              "├──────────────────────────────────────┼─────────────────────────────┼─────────────────┤\n",
              "│ block4_conv3 (<span style=\"color: #0087ff; text-decoration-color: #0087ff\">Conv2D</span>)                │ (<span style=\"color: #00d7ff; text-decoration-color: #00d7ff\">None</span>, <span style=\"color: #00af00; text-decoration-color: #00af00\">32</span>, <span style=\"color: #00af00; text-decoration-color: #00af00\">32</span>, <span style=\"color: #00af00; text-decoration-color: #00af00\">512</span>)         │       <span style=\"color: #00af00; text-decoration-color: #00af00\">2,359,808</span> │\n",
              "├──────────────────────────────────────┼─────────────────────────────┼─────────────────┤\n",
              "│ block4_conv4 (<span style=\"color: #0087ff; text-decoration-color: #0087ff\">Conv2D</span>)                │ (<span style=\"color: #00d7ff; text-decoration-color: #00d7ff\">None</span>, <span style=\"color: #00af00; text-decoration-color: #00af00\">32</span>, <span style=\"color: #00af00; text-decoration-color: #00af00\">32</span>, <span style=\"color: #00af00; text-decoration-color: #00af00\">512</span>)         │       <span style=\"color: #00af00; text-decoration-color: #00af00\">2,359,808</span> │\n",
              "├──────────────────────────────────────┼─────────────────────────────┼─────────────────┤\n",
              "│ block4_pool (<span style=\"color: #0087ff; text-decoration-color: #0087ff\">MaxPooling2D</span>)           │ (<span style=\"color: #00d7ff; text-decoration-color: #00d7ff\">None</span>, <span style=\"color: #00af00; text-decoration-color: #00af00\">16</span>, <span style=\"color: #00af00; text-decoration-color: #00af00\">16</span>, <span style=\"color: #00af00; text-decoration-color: #00af00\">512</span>)         │               <span style=\"color: #00af00; text-decoration-color: #00af00\">0</span> │\n",
              "├──────────────────────────────────────┼─────────────────────────────┼─────────────────┤\n",
              "│ block5_conv1 (<span style=\"color: #0087ff; text-decoration-color: #0087ff\">Conv2D</span>)                │ (<span style=\"color: #00d7ff; text-decoration-color: #00d7ff\">None</span>, <span style=\"color: #00af00; text-decoration-color: #00af00\">16</span>, <span style=\"color: #00af00; text-decoration-color: #00af00\">16</span>, <span style=\"color: #00af00; text-decoration-color: #00af00\">512</span>)         │       <span style=\"color: #00af00; text-decoration-color: #00af00\">2,359,808</span> │\n",
              "├──────────────────────────────────────┼─────────────────────────────┼─────────────────┤\n",
              "│ block5_conv2 (<span style=\"color: #0087ff; text-decoration-color: #0087ff\">Conv2D</span>)                │ (<span style=\"color: #00d7ff; text-decoration-color: #00d7ff\">None</span>, <span style=\"color: #00af00; text-decoration-color: #00af00\">16</span>, <span style=\"color: #00af00; text-decoration-color: #00af00\">16</span>, <span style=\"color: #00af00; text-decoration-color: #00af00\">512</span>)         │       <span style=\"color: #00af00; text-decoration-color: #00af00\">2,359,808</span> │\n",
              "├──────────────────────────────────────┼─────────────────────────────┼─────────────────┤\n",
              "│ block5_conv3 (<span style=\"color: #0087ff; text-decoration-color: #0087ff\">Conv2D</span>)                │ (<span style=\"color: #00d7ff; text-decoration-color: #00d7ff\">None</span>, <span style=\"color: #00af00; text-decoration-color: #00af00\">16</span>, <span style=\"color: #00af00; text-decoration-color: #00af00\">16</span>, <span style=\"color: #00af00; text-decoration-color: #00af00\">512</span>)         │       <span style=\"color: #00af00; text-decoration-color: #00af00\">2,359,808</span> │\n",
              "├──────────────────────────────────────┼─────────────────────────────┼─────────────────┤\n",
              "│ block5_conv4 (<span style=\"color: #0087ff; text-decoration-color: #0087ff\">Conv2D</span>)                │ (<span style=\"color: #00d7ff; text-decoration-color: #00d7ff\">None</span>, <span style=\"color: #00af00; text-decoration-color: #00af00\">16</span>, <span style=\"color: #00af00; text-decoration-color: #00af00\">16</span>, <span style=\"color: #00af00; text-decoration-color: #00af00\">512</span>)         │       <span style=\"color: #00af00; text-decoration-color: #00af00\">2,359,808</span> │\n",
              "├──────────────────────────────────────┼─────────────────────────────┼─────────────────┤\n",
              "│ block5_pool (<span style=\"color: #0087ff; text-decoration-color: #0087ff\">MaxPooling2D</span>)           │ (<span style=\"color: #00d7ff; text-decoration-color: #00d7ff\">None</span>, <span style=\"color: #00af00; text-decoration-color: #00af00\">8</span>, <span style=\"color: #00af00; text-decoration-color: #00af00\">8</span>, <span style=\"color: #00af00; text-decoration-color: #00af00\">512</span>)           │               <span style=\"color: #00af00; text-decoration-color: #00af00\">0</span> │\n",
              "└──────────────────────────────────────┴─────────────────────────────┴─────────────────┘\n",
              "</pre>\n"
            ],
            "text/plain": [
              "┏━━━━━━━━━━━━━━━━━━━━━━━━━━━━━━━━━━━━━━┳━━━━━━━━━━━━━━━━━━━━━━━━━━━━━┳━━━━━━━━━━━━━━━━━┓\n",
              "┃\u001b[1m \u001b[0m\u001b[1mLayer (type)                        \u001b[0m\u001b[1m \u001b[0m┃\u001b[1m \u001b[0m\u001b[1mOutput Shape               \u001b[0m\u001b[1m \u001b[0m┃\u001b[1m \u001b[0m\u001b[1m        Param #\u001b[0m\u001b[1m \u001b[0m┃\n",
              "┡━━━━━━━━━━━━━━━━━━━━━━━━━━━━━━━━━━━━━━╇━━━━━━━━━━━━━━━━━━━━━━━━━━━━━╇━━━━━━━━━━━━━━━━━┩\n",
              "│ input_layer_1 (\u001b[38;5;33mInputLayer\u001b[0m)           │ (\u001b[38;5;45mNone\u001b[0m, \u001b[38;5;34m256\u001b[0m, \u001b[38;5;34m256\u001b[0m, \u001b[38;5;34m3\u001b[0m)         │               \u001b[38;5;34m0\u001b[0m │\n",
              "├──────────────────────────────────────┼─────────────────────────────┼─────────────────┤\n",
              "│ block1_conv1 (\u001b[38;5;33mConv2D\u001b[0m)                │ (\u001b[38;5;45mNone\u001b[0m, \u001b[38;5;34m256\u001b[0m, \u001b[38;5;34m256\u001b[0m, \u001b[38;5;34m64\u001b[0m)        │           \u001b[38;5;34m1,792\u001b[0m │\n",
              "├──────────────────────────────────────┼─────────────────────────────┼─────────────────┤\n",
              "│ block1_conv2 (\u001b[38;5;33mConv2D\u001b[0m)                │ (\u001b[38;5;45mNone\u001b[0m, \u001b[38;5;34m256\u001b[0m, \u001b[38;5;34m256\u001b[0m, \u001b[38;5;34m64\u001b[0m)        │          \u001b[38;5;34m36,928\u001b[0m │\n",
              "├──────────────────────────────────────┼─────────────────────────────┼─────────────────┤\n",
              "│ block1_pool (\u001b[38;5;33mMaxPooling2D\u001b[0m)           │ (\u001b[38;5;45mNone\u001b[0m, \u001b[38;5;34m128\u001b[0m, \u001b[38;5;34m128\u001b[0m, \u001b[38;5;34m64\u001b[0m)        │               \u001b[38;5;34m0\u001b[0m │\n",
              "├──────────────────────────────────────┼─────────────────────────────┼─────────────────┤\n",
              "│ block2_conv1 (\u001b[38;5;33mConv2D\u001b[0m)                │ (\u001b[38;5;45mNone\u001b[0m, \u001b[38;5;34m128\u001b[0m, \u001b[38;5;34m128\u001b[0m, \u001b[38;5;34m128\u001b[0m)       │          \u001b[38;5;34m73,856\u001b[0m │\n",
              "├──────────────────────────────────────┼─────────────────────────────┼─────────────────┤\n",
              "│ block2_conv2 (\u001b[38;5;33mConv2D\u001b[0m)                │ (\u001b[38;5;45mNone\u001b[0m, \u001b[38;5;34m128\u001b[0m, \u001b[38;5;34m128\u001b[0m, \u001b[38;5;34m128\u001b[0m)       │         \u001b[38;5;34m147,584\u001b[0m │\n",
              "├──────────────────────────────────────┼─────────────────────────────┼─────────────────┤\n",
              "│ block2_pool (\u001b[38;5;33mMaxPooling2D\u001b[0m)           │ (\u001b[38;5;45mNone\u001b[0m, \u001b[38;5;34m64\u001b[0m, \u001b[38;5;34m64\u001b[0m, \u001b[38;5;34m128\u001b[0m)         │               \u001b[38;5;34m0\u001b[0m │\n",
              "├──────────────────────────────────────┼─────────────────────────────┼─────────────────┤\n",
              "│ block3_conv1 (\u001b[38;5;33mConv2D\u001b[0m)                │ (\u001b[38;5;45mNone\u001b[0m, \u001b[38;5;34m64\u001b[0m, \u001b[38;5;34m64\u001b[0m, \u001b[38;5;34m256\u001b[0m)         │         \u001b[38;5;34m295,168\u001b[0m │\n",
              "├──────────────────────────────────────┼─────────────────────────────┼─────────────────┤\n",
              "│ block3_conv2 (\u001b[38;5;33mConv2D\u001b[0m)                │ (\u001b[38;5;45mNone\u001b[0m, \u001b[38;5;34m64\u001b[0m, \u001b[38;5;34m64\u001b[0m, \u001b[38;5;34m256\u001b[0m)         │         \u001b[38;5;34m590,080\u001b[0m │\n",
              "├──────────────────────────────────────┼─────────────────────────────┼─────────────────┤\n",
              "│ block3_conv3 (\u001b[38;5;33mConv2D\u001b[0m)                │ (\u001b[38;5;45mNone\u001b[0m, \u001b[38;5;34m64\u001b[0m, \u001b[38;5;34m64\u001b[0m, \u001b[38;5;34m256\u001b[0m)         │         \u001b[38;5;34m590,080\u001b[0m │\n",
              "├──────────────────────────────────────┼─────────────────────────────┼─────────────────┤\n",
              "│ block3_conv4 (\u001b[38;5;33mConv2D\u001b[0m)                │ (\u001b[38;5;45mNone\u001b[0m, \u001b[38;5;34m64\u001b[0m, \u001b[38;5;34m64\u001b[0m, \u001b[38;5;34m256\u001b[0m)         │         \u001b[38;5;34m590,080\u001b[0m │\n",
              "├──────────────────────────────────────┼─────────────────────────────┼─────────────────┤\n",
              "│ block3_pool (\u001b[38;5;33mMaxPooling2D\u001b[0m)           │ (\u001b[38;5;45mNone\u001b[0m, \u001b[38;5;34m32\u001b[0m, \u001b[38;5;34m32\u001b[0m, \u001b[38;5;34m256\u001b[0m)         │               \u001b[38;5;34m0\u001b[0m │\n",
              "├──────────────────────────────────────┼─────────────────────────────┼─────────────────┤\n",
              "│ block4_conv1 (\u001b[38;5;33mConv2D\u001b[0m)                │ (\u001b[38;5;45mNone\u001b[0m, \u001b[38;5;34m32\u001b[0m, \u001b[38;5;34m32\u001b[0m, \u001b[38;5;34m512\u001b[0m)         │       \u001b[38;5;34m1,180,160\u001b[0m │\n",
              "├──────────────────────────────────────┼─────────────────────────────┼─────────────────┤\n",
              "│ block4_conv2 (\u001b[38;5;33mConv2D\u001b[0m)                │ (\u001b[38;5;45mNone\u001b[0m, \u001b[38;5;34m32\u001b[0m, \u001b[38;5;34m32\u001b[0m, \u001b[38;5;34m512\u001b[0m)         │       \u001b[38;5;34m2,359,808\u001b[0m │\n",
              "├──────────────────────────────────────┼─────────────────────────────┼─────────────────┤\n",
              "│ block4_conv3 (\u001b[38;5;33mConv2D\u001b[0m)                │ (\u001b[38;5;45mNone\u001b[0m, \u001b[38;5;34m32\u001b[0m, \u001b[38;5;34m32\u001b[0m, \u001b[38;5;34m512\u001b[0m)         │       \u001b[38;5;34m2,359,808\u001b[0m │\n",
              "├──────────────────────────────────────┼─────────────────────────────┼─────────────────┤\n",
              "│ block4_conv4 (\u001b[38;5;33mConv2D\u001b[0m)                │ (\u001b[38;5;45mNone\u001b[0m, \u001b[38;5;34m32\u001b[0m, \u001b[38;5;34m32\u001b[0m, \u001b[38;5;34m512\u001b[0m)         │       \u001b[38;5;34m2,359,808\u001b[0m │\n",
              "├──────────────────────────────────────┼─────────────────────────────┼─────────────────┤\n",
              "│ block4_pool (\u001b[38;5;33mMaxPooling2D\u001b[0m)           │ (\u001b[38;5;45mNone\u001b[0m, \u001b[38;5;34m16\u001b[0m, \u001b[38;5;34m16\u001b[0m, \u001b[38;5;34m512\u001b[0m)         │               \u001b[38;5;34m0\u001b[0m │\n",
              "├──────────────────────────────────────┼─────────────────────────────┼─────────────────┤\n",
              "│ block5_conv1 (\u001b[38;5;33mConv2D\u001b[0m)                │ (\u001b[38;5;45mNone\u001b[0m, \u001b[38;5;34m16\u001b[0m, \u001b[38;5;34m16\u001b[0m, \u001b[38;5;34m512\u001b[0m)         │       \u001b[38;5;34m2,359,808\u001b[0m │\n",
              "├──────────────────────────────────────┼─────────────────────────────┼─────────────────┤\n",
              "│ block5_conv2 (\u001b[38;5;33mConv2D\u001b[0m)                │ (\u001b[38;5;45mNone\u001b[0m, \u001b[38;5;34m16\u001b[0m, \u001b[38;5;34m16\u001b[0m, \u001b[38;5;34m512\u001b[0m)         │       \u001b[38;5;34m2,359,808\u001b[0m │\n",
              "├──────────────────────────────────────┼─────────────────────────────┼─────────────────┤\n",
              "│ block5_conv3 (\u001b[38;5;33mConv2D\u001b[0m)                │ (\u001b[38;5;45mNone\u001b[0m, \u001b[38;5;34m16\u001b[0m, \u001b[38;5;34m16\u001b[0m, \u001b[38;5;34m512\u001b[0m)         │       \u001b[38;5;34m2,359,808\u001b[0m │\n",
              "├──────────────────────────────────────┼─────────────────────────────┼─────────────────┤\n",
              "│ block5_conv4 (\u001b[38;5;33mConv2D\u001b[0m)                │ (\u001b[38;5;45mNone\u001b[0m, \u001b[38;5;34m16\u001b[0m, \u001b[38;5;34m16\u001b[0m, \u001b[38;5;34m512\u001b[0m)         │       \u001b[38;5;34m2,359,808\u001b[0m │\n",
              "├──────────────────────────────────────┼─────────────────────────────┼─────────────────┤\n",
              "│ block5_pool (\u001b[38;5;33mMaxPooling2D\u001b[0m)           │ (\u001b[38;5;45mNone\u001b[0m, \u001b[38;5;34m8\u001b[0m, \u001b[38;5;34m8\u001b[0m, \u001b[38;5;34m512\u001b[0m)           │               \u001b[38;5;34m0\u001b[0m │\n",
              "└──────────────────────────────────────┴─────────────────────────────┴─────────────────┘\n"
            ]
          },
          "metadata": {},
          "output_type": "display_data"
        },
        {
          "data": {
            "text/html": [
              "<pre style=\"white-space:pre;overflow-x:auto;line-height:normal;font-family:Menlo,'DejaVu Sans Mono',consolas,'Courier New',monospace\"><span style=\"font-weight: bold\"> Total params: </span><span style=\"color: #00af00; text-decoration-color: #00af00\">20,024,384</span> (76.39 MB)\n",
              "</pre>\n"
            ],
            "text/plain": [
              "\u001b[1m Total params: \u001b[0m\u001b[38;5;34m20,024,384\u001b[0m (76.39 MB)\n"
            ]
          },
          "metadata": {},
          "output_type": "display_data"
        },
        {
          "data": {
            "text/html": [
              "<pre style=\"white-space:pre;overflow-x:auto;line-height:normal;font-family:Menlo,'DejaVu Sans Mono',consolas,'Courier New',monospace\"><span style=\"font-weight: bold\"> Trainable params: </span><span style=\"color: #00af00; text-decoration-color: #00af00\">0</span> (0.00 B)\n",
              "</pre>\n"
            ],
            "text/plain": [
              "\u001b[1m Trainable params: \u001b[0m\u001b[38;5;34m0\u001b[0m (0.00 B)\n"
            ]
          },
          "metadata": {},
          "output_type": "display_data"
        },
        {
          "data": {
            "text/html": [
              "<pre style=\"white-space:pre;overflow-x:auto;line-height:normal;font-family:Menlo,'DejaVu Sans Mono',consolas,'Courier New',monospace\"><span style=\"font-weight: bold\"> Non-trainable params: </span><span style=\"color: #00af00; text-decoration-color: #00af00\">20,024,384</span> (76.39 MB)\n",
              "</pre>\n"
            ],
            "text/plain": [
              "\u001b[1m Non-trainable params: \u001b[0m\u001b[38;5;34m20,024,384\u001b[0m (76.39 MB)\n"
            ]
          },
          "metadata": {},
          "output_type": "display_data"
        }
      ],
      "source": [
        "vgg19.summary()"
      ]
    },
    {
      "cell_type": "code",
      "execution_count": null,
      "id": "0162328a-6c0d-484b-a118-f7f98b8aa3ce",
      "metadata": {
        "id": "0162328a-6c0d-484b-a118-f7f98b8aa3ce"
      },
      "outputs": [],
      "source": [
        "model4_vgg = Sequential([\n",
        "    vgg19,                             # Input Layer\n",
        "    Flatten(),                         # Flatten Layer\n",
        "    Dense(512, activation='relu'),     # Added Dense Layer with ReLU activation\n",
        "    Dropout(0.2),                      # Added Dropout Layer\n",
        "    Dense(64, activation='relu'),      # Added another Dense Layer with ReLU activation\n",
        "    Dropout(0.2),                      # Dropout Layer\n",
        "    Dense(10, activation='softmax')    # Output Layer with Softmax activation\n",
        "])"
      ]
    },
    {
      "cell_type": "code",
      "execution_count": null,
      "id": "fb10d3cf-6b57-450b-922b-fcb4cf5cfbd7",
      "metadata": {
        "colab": {
          "base_uri": "https://localhost:8080/"
        },
        "id": "fb10d3cf-6b57-450b-922b-fcb4cf5cfbd7",
        "outputId": "b89ef4e3-4421-4e76-9049-35a0a15e65e5"
      },
      "outputs": [
        {
          "name": "stdout",
          "output_type": "stream",
          "text": [
            "vgg19 False\n",
            "flatten True\n",
            "dense True\n",
            "dropout True\n",
            "dense_1 True\n",
            "dropout_1 True\n",
            "dense_2 True\n"
          ]
        }
      ],
      "source": [
        "#Freezing VGG19 Layer\n",
        "vgg19.trainable = False\n",
        "\n",
        "for layer in model4_vgg.layers:\n",
        "    print(layer.name, layer.trainable)\n",
        "\n",
        "model4_vgg.build(input_shape=(None, 256, 256, 3))"
      ]
    },
    {
      "cell_type": "code",
      "execution_count": null,
      "id": "8984ceca-977b-471f-95a0-9dedef4e5dd4",
      "metadata": {
        "colab": {
          "base_uri": "https://localhost:8080/"
        },
        "id": "8984ceca-977b-471f-95a0-9dedef4e5dd4",
        "outputId": "2f117605-a483-48c0-9063-98e3d7dda32a"
      },
      "outputs": [
        {
          "name": "stdout",
          "output_type": "stream",
          "text": [
            "Model: \"sequential\"\n",
            "_________________________________________________________________\n",
            " Layer (type)                Output Shape              Param #   \n",
            "=================================================================\n",
            " vgg19 (Functional)          (None, 8, 8, 512)         20024384  \n",
            "                                                                 \n",
            " flatten (Flatten)           (None, 32768)             0         \n",
            "                                                                 \n",
            " dense (Dense)               (None, 512)               16777728  \n",
            "                                                                 \n",
            " dropout (Dropout)           (None, 512)               0         \n",
            "                                                                 \n",
            " dense_1 (Dense)             (None, 64)                32832     \n",
            "                                                                 \n",
            " dropout_1 (Dropout)         (None, 64)                0         \n",
            "                                                                 \n",
            " dense_2 (Dense)             (None, 10)                650       \n",
            "                                                                 \n",
            "=================================================================\n",
            "Total params: 36835594 (140.52 MB)\n",
            "Trainable params: 16811210 (64.13 MB)\n",
            "Non-trainable params: 20024384 (76.39 MB)\n",
            "_________________________________________________________________\n"
          ]
        }
      ],
      "source": [
        "#Compiling the model\n",
        "model4_vgg.compile(optimizer='adam',\n",
        "                       loss='categorical_crossentropy',\n",
        "                       metrics=['accuracy'])\n",
        "model4_vgg.summary()"
      ]
    },
    {
      "cell_type": "code",
      "execution_count": null,
      "id": "10a2a2c2-d6de-4780-a4cd-a256988d3e97",
      "metadata": {
        "colab": {
          "base_uri": "https://localhost:8080/"
        },
        "id": "10a2a2c2-d6de-4780-a4cd-a256988d3e97",
        "outputId": "8509fea5-3fa2-4cbb-aacb-8c80a5d32143"
      },
      "outputs": [
        {
          "name": "stdout",
          "output_type": "stream",
          "text": [
            "Epoch 1/50\n",
            "144/144 [==============================] - 8214s 57s/step - loss: 2.0188 - accuracy: 0.2795 - val_loss: 1.2429 - val_accuracy: 0.5519\n",
            "Epoch 2/50\n",
            "144/144 [==============================] - 141s 976ms/step - loss: 1.1546 - accuracy: 0.5885 - val_loss: 0.7691 - val_accuracy: 0.7432\n",
            "Epoch 3/50\n",
            "144/144 [==============================] - 159s 1s/step - loss: 0.9067 - accuracy: 0.6823 - val_loss: 0.7266 - val_accuracy: 0.7389\n",
            "Epoch 4/50\n",
            "144/144 [==============================] - 164s 1s/step - loss: 0.7862 - accuracy: 0.7270 - val_loss: 0.6023 - val_accuracy: 0.7802\n",
            "Epoch 5/50\n",
            "144/144 [==============================] - 147s 1s/step - loss: 0.7104 - accuracy: 0.7510 - val_loss: 0.5984 - val_accuracy: 0.7907\n",
            "Epoch 6/50\n",
            "144/144 [==============================] - 146s 1s/step - loss: 0.6966 - accuracy: 0.7538 - val_loss: 0.5813 - val_accuracy: 0.7978\n",
            "Epoch 7/50\n",
            "144/144 [==============================] - 140s 967ms/step - loss: 0.6546 - accuracy: 0.7704 - val_loss: 0.5710 - val_accuracy: 0.7932\n",
            "Epoch 8/50\n",
            "144/144 [==============================] - 139s 966ms/step - loss: 0.6323 - accuracy: 0.7754 - val_loss: 0.6319 - val_accuracy: 0.7836\n",
            "Epoch 9/50\n",
            "144/144 [==============================] - 163s 1s/step - loss: 0.6205 - accuracy: 0.7835 - val_loss: 0.5363 - val_accuracy: 0.8086\n",
            "Epoch 10/50\n",
            "144/144 [==============================] - 160s 1s/step - loss: 0.5876 - accuracy: 0.7946 - val_loss: 0.5470 - val_accuracy: 0.8037\n",
            "Epoch 11/50\n",
            "144/144 [==============================] - 140s 971ms/step - loss: 0.5771 - accuracy: 0.8004 - val_loss: 0.5246 - val_accuracy: 0.8056\n",
            "Epoch 12/50\n",
            "144/144 [==============================] - 144s 996ms/step - loss: 0.5428 - accuracy: 0.8092 - val_loss: 0.5065 - val_accuracy: 0.8127\n",
            "Epoch 13/50\n",
            "144/144 [==============================] - 140s 964ms/step - loss: 0.5464 - accuracy: 0.8110 - val_loss: 0.5438 - val_accuracy: 0.8086\n",
            "Epoch 14/50\n",
            "144/144 [==============================] - 140s 966ms/step - loss: 0.5605 - accuracy: 0.8038 - val_loss: 0.5441 - val_accuracy: 0.8120\n",
            "Epoch 15/50\n",
            "144/144 [==============================] - 139s 964ms/step - loss: 0.5553 - accuracy: 0.8049 - val_loss: 0.5678 - val_accuracy: 0.8111\n",
            "Epoch 15: early stopping\n"
          ]
        }
      ],
      "source": [
        "# Stopping Criteria - increasing patience\n",
        "callback4 = [EarlyStopping(monitor='val_accuracy', mode='max', verbose = 1, patience = 3),\n",
        "               ModelCheckpoint(filepath='/content/drive/MyDrive/Project/model4_vgg.h5',\n",
        "                               monitor='val_accuracy',\n",
        "                               save_best_only=True,\n",
        "                               mode='max')]\n",
        "\n",
        "\n",
        "model4_vgg_history = model4_vgg.fit(train_generator,\n",
        "                                  epochs= 50,\n",
        "                                  validation_data = val_generator,\n",
        "                                  callbacks= callback4,\n",
        "                                  batch_size=128,\n",
        "                                  verbose = 1)"
      ]
    },
    {
      "cell_type": "code",
      "execution_count": null,
      "id": "7474bde5-cf5d-438f-94e0-0dd9b081ba70",
      "metadata": {
        "colab": {
          "base_uri": "https://localhost:8080/"
        },
        "id": "7474bde5-cf5d-438f-94e0-0dd9b081ba70",
        "outputId": "302362a4-f5d9-456f-a5fc-f039361206b8"
      },
      "outputs": [
        {
          "name": "stdout",
          "output_type": "stream",
          "text": [
            "43/43 [==============================] - 1867s 44s/step - loss: 0.5778 - accuracy: 0.8067\n",
            "Test loss:  0.5778381824493408\n",
            "Test accuracy:  0.8066666722297668\n"
          ]
        }
      ],
      "source": [
        "# Check loss and accuracy on test data\n",
        "test_loss, test_acc = model4_vgg.evaluate(test_generator, verbose = 1)\n",
        "\n",
        "print('Test loss: ', test_loss)\n",
        "print('Test accuracy: ', test_acc)"
      ]
    },
    {
      "cell_type": "markdown",
      "id": "N8pXK32SEmKQ",
      "metadata": {
        "id": "N8pXK32SEmKQ"
      },
      "source": [
        "With the VGG19 model adding dropout seem to reduce overfitting to great extent but the accuracy has dropped as compared to the third model. After 15 epochs(early stopping) it gave 80 % train accuracy, 81% validation accuracy and 80% test accuracy. Also need to increase the patience level in next models so that the training continues for long."
      ]
    },
    {
      "cell_type": "markdown",
      "source": [
        "## Fifth Model"
      ],
      "metadata": {
        "id": "IFtPt7zoUcke"
      },
      "id": "IFtPt7zoUcke"
    },
    {
      "cell_type": "markdown",
      "id": "GoqoUyGdFJhp",
      "metadata": {
        "id": "GoqoUyGdFJhp"
      },
      "source": [
        "### Transfer Learning: VGG16 with 2 aditional dense and dropout layers"
      ]
    },
    {
      "cell_type": "code",
      "execution_count": null,
      "id": "MGQjr3phZyrC",
      "metadata": {
        "id": "MGQjr3phZyrC"
      },
      "outputs": [],
      "source": [
        "#Transfer Learning\n",
        "from keras.applications import VGG16"
      ]
    },
    {
      "cell_type": "code",
      "execution_count": null,
      "id": "4pefHsy8Y1LV",
      "metadata": {
        "colab": {
          "base_uri": "https://localhost:8080/"
        },
        "id": "4pefHsy8Y1LV",
        "outputId": "7ee99743-4551-4a8c-b2fe-971af673e4bc"
      },
      "outputs": [
        {
          "output_type": "stream",
          "name": "stdout",
          "text": [
            "Downloading data from https://storage.googleapis.com/tensorflow/keras-applications/vgg16/vgg16_weights_tf_dim_ordering_tf_kernels_notop.h5\n",
            "58889256/58889256 [==============================] - 2s 0us/step\n"
          ]
        }
      ],
      "source": [
        "vgg16 = VGG16(weights='imagenet',\n",
        "              include_top=False,\n",
        "              input_shape=(256, 256, 3))"
      ]
    },
    {
      "cell_type": "code",
      "execution_count": null,
      "id": "fVxg6TufZ2u4",
      "metadata": {
        "id": "fVxg6TufZ2u4"
      },
      "outputs": [],
      "source": [
        "model5_vgg16 = Sequential([\n",
        "    vgg16,                             # Input Layer\n",
        "    Flatten(),                         # Flatten Layer\n",
        "    Dense(512, activation='relu'),     # Added Dense Layer with ReLU activation\n",
        "    Dropout(0.2),                      # Added Dropout Layer\n",
        "    Dense(64, activation='relu'),      # Added another Dense Layer with ReLU activation\n",
        "    Dropout(0.2),                      # Dropout Layer\n",
        "    Dense(10, activation='softmax')    # Output Layer with Softmax activation\n",
        "])"
      ]
    },
    {
      "cell_type": "code",
      "execution_count": null,
      "id": "fFRQXALjaKBK",
      "metadata": {
        "colab": {
          "base_uri": "https://localhost:8080/"
        },
        "id": "fFRQXALjaKBK",
        "outputId": "866e1bda-7f93-4e5e-90a5-f01dcda42523"
      },
      "outputs": [
        {
          "output_type": "stream",
          "name": "stdout",
          "text": [
            "vgg16 False\n",
            "flatten True\n",
            "dense True\n",
            "dropout True\n",
            "dense_1 True\n",
            "dropout_1 True\n",
            "dense_2 True\n"
          ]
        }
      ],
      "source": [
        "#Freezing VGG16 Layer\n",
        "vgg16.trainable = False\n",
        "\n",
        "for layer in model5_vgg16.layers:\n",
        "    print(layer.name, layer.trainable)\n",
        "\n",
        "model5_vgg16.build(input_shape=(None, 256, 256, 3))"
      ]
    },
    {
      "cell_type": "code",
      "execution_count": null,
      "id": "OGmGGlBRaSKI",
      "metadata": {
        "colab": {
          "base_uri": "https://localhost:8080/"
        },
        "id": "OGmGGlBRaSKI",
        "outputId": "bbbde5c3-8e6d-47a7-f816-32a64762a07c"
      },
      "outputs": [
        {
          "output_type": "stream",
          "name": "stdout",
          "text": [
            "Model: \"sequential\"\n",
            "_________________________________________________________________\n",
            " Layer (type)                Output Shape              Param #   \n",
            "=================================================================\n",
            " vgg16 (Functional)          (None, 8, 8, 512)         14714688  \n",
            "                                                                 \n",
            " flatten (Flatten)           (None, 32768)             0         \n",
            "                                                                 \n",
            " dense (Dense)               (None, 512)               16777728  \n",
            "                                                                 \n",
            " dropout (Dropout)           (None, 512)               0         \n",
            "                                                                 \n",
            " dense_1 (Dense)             (None, 64)                32832     \n",
            "                                                                 \n",
            " dropout_1 (Dropout)         (None, 64)                0         \n",
            "                                                                 \n",
            " dense_2 (Dense)             (None, 10)                650       \n",
            "                                                                 \n",
            "=================================================================\n",
            "Total params: 31525898 (120.26 MB)\n",
            "Trainable params: 16811210 (64.13 MB)\n",
            "Non-trainable params: 14714688 (56.13 MB)\n",
            "_________________________________________________________________\n"
          ]
        }
      ],
      "source": [
        "#Compiling the model\n",
        "model5_vgg16.compile(optimizer='adam',\n",
        "                       loss='categorical_crossentropy',\n",
        "                       metrics=['accuracy'])\n",
        "model5_vgg16.summary()"
      ]
    },
    {
      "cell_type": "code",
      "execution_count": null,
      "id": "yX3hW4Lxaf_h",
      "metadata": {
        "colab": {
          "base_uri": "https://localhost:8080/"
        },
        "id": "yX3hW4Lxaf_h",
        "outputId": "a7fdd309-8ea3-43f3-9d51-2c1510940db1"
      },
      "outputs": [
        {
          "output_type": "stream",
          "name": "stdout",
          "text": [
            "Epoch 1/50\n",
            "144/144 [==============================] - 9133s 63s/step - loss: 1.9032 - accuracy: 0.3339 - val_loss: 1.1152 - val_accuracy: 0.6188\n",
            "Epoch 2/50\n",
            "144/144 [==============================] - 130s 896ms/step - loss: 1.0156 - accuracy: 0.6384 - val_loss: 0.6945 - val_accuracy: 0.7509\n",
            "Epoch 3/50\n",
            "144/144 [==============================] - 131s 906ms/step - loss: 0.7672 - accuracy: 0.7268 - val_loss: 0.5639 - val_accuracy: 0.8083\n",
            "Epoch 4/50\n",
            "144/144 [==============================] - 125s 865ms/step - loss: 0.6317 - accuracy: 0.7830 - val_loss: 0.5412 - val_accuracy: 0.8151\n",
            "Epoch 5/50\n",
            "144/144 [==============================] - 122s 844ms/step - loss: 0.5745 - accuracy: 0.8026 - val_loss: 0.5823 - val_accuracy: 0.8000\n",
            "Epoch 6/50\n",
            "144/144 [==============================] - 124s 855ms/step - loss: 0.5421 - accuracy: 0.8148 - val_loss: 0.4901 - val_accuracy: 0.8318\n",
            "Epoch 7/50\n",
            "144/144 [==============================] - 127s 880ms/step - loss: 0.5088 - accuracy: 0.8260 - val_loss: 0.4515 - val_accuracy: 0.8383\n",
            "Epoch 8/50\n",
            "144/144 [==============================] - 126s 867ms/step - loss: 0.4642 - accuracy: 0.8442 - val_loss: 0.4785 - val_accuracy: 0.8386\n",
            "Epoch 9/50\n",
            "144/144 [==============================] - 129s 891ms/step - loss: 0.4417 - accuracy: 0.8498 - val_loss: 0.4674 - val_accuracy: 0.8420\n",
            "Epoch 10/50\n",
            "144/144 [==============================] - 126s 869ms/step - loss: 0.4222 - accuracy: 0.8542 - val_loss: 0.4590 - val_accuracy: 0.8469\n",
            "Epoch 11/50\n",
            "144/144 [==============================] - 129s 893ms/step - loss: 0.4132 - accuracy: 0.8610 - val_loss: 0.4292 - val_accuracy: 0.8565\n",
            "Epoch 12/50\n",
            "144/144 [==============================] - 123s 844ms/step - loss: 0.4072 - accuracy: 0.8625 - val_loss: 0.4408 - val_accuracy: 0.8481\n",
            "Epoch 13/50\n",
            "144/144 [==============================] - 120s 834ms/step - loss: 0.4051 - accuracy: 0.8588 - val_loss: 0.4675 - val_accuracy: 0.8435\n",
            "Epoch 14/50\n",
            " 28/144 [====>.........................] - ETA: 1:22 - loss: 0.3571 - accuracy: 0.8811"
          ]
        }
      ],
      "source": [
        "# Stopping Criteria - increasing patience\n",
        "callback5 = [EarlyStopping(monitor='val_accuracy', mode='max', verbose = 1, patience = 5),\n",
        "               ModelCheckpoint(filepath='/content/drive/MyDrive/Project/model5_vgg16.h5',\n",
        "                               monitor='val_accuracy',\n",
        "                               save_best_only=True,\n",
        "                               mode='max')]\n",
        "\n",
        "\n",
        "model5_vgg16_history = model5_vgg16.fit(train_generator,\n",
        "                                  epochs= 50,\n",
        "                                  validation_data = val_generator,\n",
        "                                  callbacks= callback5,\n",
        "                                  batch_size=128,\n",
        "                                  verbose = 1)"
      ]
    },
    {
      "cell_type": "code",
      "source": [
        "from keras.models import load_model\n",
        "model5_vgg16 = load_model('/content/drive/MyDrive/Project/model5_vgg16.h5')"
      ],
      "metadata": {
        "id": "YHM-lEuND9Ez"
      },
      "id": "YHM-lEuND9Ez",
      "execution_count": null,
      "outputs": []
    },
    {
      "cell_type": "code",
      "source": [
        "# Check loss and accuracy on test data\n",
        "test_loss, test_acc = model5_vgg16.evaluate(test_generator, verbose = 1)\n",
        "\n",
        "print('Test loss: ', test_loss)\n",
        "print('Test accuracy: ', test_acc)"
      ],
      "metadata": {
        "id": "PRyWAkwm8TvF",
        "colab": {
          "base_uri": "https://localhost:8080/"
        },
        "outputId": "0fc28bb8-ae75-431a-d70b-fc6ebc8986ee"
      },
      "id": "PRyWAkwm8TvF",
      "execution_count": null,
      "outputs": [
        {
          "output_type": "stream",
          "name": "stdout",
          "text": [
            "43/43 [==============================] - 2320s 55s/step - loss: 0.3223 - accuracy: 0.8948\n",
            "Test loss:  0.32227522134780884\n",
            "Test accuracy:  0.8948147892951965\n"
          ]
        }
      ]
    },
    {
      "cell_type": "markdown",
      "metadata": {
        "id": "DbVi87f2MUxP"
      },
      "source": [
        "The VGG16 model have given the best results so far.After 14 epochs(session timeout multiple times) it gave 86 % train accuracy, 84% validation accuracy and 89% test accuracy. Will continue with further adding dense layers and fine tuning this model."
      ],
      "id": "DbVi87f2MUxP"
    },
    {
      "cell_type": "markdown",
      "source": [
        "## Sixth Model"
      ],
      "metadata": {
        "id": "ESVubK8M0_Ka"
      },
      "id": "ESVubK8M0_Ka"
    },
    {
      "cell_type": "markdown",
      "source": [
        "### Data Augmentation"
      ],
      "metadata": {
        "id": "tBAR7Hq9YKgs"
      },
      "id": "tBAR7Hq9YKgs"
    },
    {
      "cell_type": "code",
      "source": [
        "from tensorflow.keras.preprocessing.image import ImageDataGenerator\n",
        "\n",
        "train_folder = '/content/drive/MyDrive/Project/eurosat_data/split/train'\n",
        "test_folder = '/content/drive/MyDrive/Project/eurosat_data/split/test'\n",
        "\n",
        "# ImageDataGenerator for training data with data augmentation and preprocessing\n",
        "train_datagen = ImageDataGenerator(\n",
        "    rescale=1./255,\n",
        "    zoom_range=0.3,\n",
        "    rotation_range=50,\n",
        "    width_shift_range=0.2,\n",
        "    height_shift_range=0.2,\n",
        "    shear_range=0.2,\n",
        "    horizontal_flip=True,\n",
        "    fill_mode='nearest',\n",
        "    preprocessing_function=tf.keras.applications.vgg16.preprocess_input,\n",
        "    validation_split=0.15\n",
        ")\n",
        "\n",
        "# ImageDataGenerator for validation data with preprocessing but no augmentation\n",
        "val_datagen = ImageDataGenerator(rescale=1./255, preprocessing_function=tf.keras.applications.vgg16.preprocess_input,validation_split=0.15)\n",
        "\n",
        "# ImageDataGenerator for test data with only preprocessing\n",
        "test_datagen = ImageDataGenerator(rescale=1./255,preprocessing_function=tf.keras.applications.vgg16.preprocess_input)\n",
        "\n",
        "# Generating training data\n",
        "batch_size = 128\n",
        "train_generator = train_datagen.flow_from_directory(train_folder,batch_size=batch_size,class_mode='categorical',subset='training',shuffle=True,seed=42)\n",
        "\n",
        "# Generating validation data\n",
        "val_generator = val_datagen.flow_from_directory(train_folder,batch_size=batch_size,class_mode='categorical',subset='validation',shuffle=True, seed=42)\n",
        "\n",
        "# Generating test data\n",
        "test_generator = test_datagen.flow_from_directory(test_folder,batch_size=batch_size,class_mode='categorical',shuffle=False,seed=42)\n"
      ],
      "metadata": {
        "id": "FmLCsajjW4lc"
      },
      "id": "FmLCsajjW4lc",
      "execution_count": null,
      "outputs": []
    },
    {
      "cell_type": "markdown",
      "source": [
        "### Fine Tuning VGG16(unfreezing the final 6 layers)and increasing dropout to 0.3"
      ],
      "metadata": {
        "id": "u2TJcrpJ1Cb6"
      },
      "id": "u2TJcrpJ1Cb6"
    },
    {
      "cell_type": "code",
      "source": [
        "#Transfer Learning\n",
        "from keras.applications import VGG16"
      ],
      "metadata": {
        "id": "eH_b2UZP8PKH"
      },
      "id": "eH_b2UZP8PKH",
      "execution_count": 4,
      "outputs": []
    },
    {
      "cell_type": "code",
      "source": [
        "vgg16 = VGG16(weights='imagenet',\n",
        "              include_top=False,\n",
        "              input_shape=(256, 256, 3))"
      ],
      "metadata": {
        "colab": {
          "base_uri": "https://localhost:8080/"
        },
        "id": "AA9Iyv5C1siy",
        "outputId": "62c766a8-777a-43b3-c0bc-3ef670497edf"
      },
      "id": "AA9Iyv5C1siy",
      "execution_count": 5,
      "outputs": [
        {
          "output_type": "stream",
          "name": "stdout",
          "text": [
            "Downloading data from https://storage.googleapis.com/tensorflow/keras-applications/vgg16/vgg16_weights_tf_dim_ordering_tf_kernels_notop.h5\n",
            "58889256/58889256 [==============================] - 0s 0us/step\n"
          ]
        }
      ]
    },
    {
      "cell_type": "code",
      "source": [
        "model6_vgg16 = Sequential([\n",
        "    vgg16,                             # Input Layer\n",
        "    Flatten(),                         # Flatten Layer\n",
        "    Dense(512, activation='relu'),     # Added Dense Layer with ReLU activation\n",
        "    Dropout(0.3),                      # Added Dropout Layer\n",
        "    Dense(64, activation='relu'),      # Added another Dense Layer with ReLU activation\n",
        "    Dropout(0.3),                      # Dropout Layer\n",
        "    Dense(10, activation='softmax')    # Output Layer with Softmax activation\n",
        "])"
      ],
      "metadata": {
        "id": "XwZ-VeV31y5y"
      },
      "id": "XwZ-VeV31y5y",
      "execution_count": 6,
      "outputs": []
    },
    {
      "cell_type": "code",
      "source": [
        "# Printing number of layers in the vgg16  model\n",
        "print(\"Number of layers in the VGG16 model: \", len(vgg16.layers))"
      ],
      "metadata": {
        "colab": {
          "base_uri": "https://localhost:8080/"
        },
        "id": "h86jFFI718vq",
        "outputId": "aafda18b-2e0f-40cb-c147-15d66f863b50"
      },
      "id": "h86jFFI718vq",
      "execution_count": 7,
      "outputs": [
        {
          "output_type": "stream",
          "name": "stdout",
          "text": [
            "Number of layers in the VGG16 model:  19\n"
          ]
        }
      ]
    },
    {
      "cell_type": "code",
      "source": [
        "# Fine tuning from layer 15 onwards\n",
        "unfreeze_from = 14\n",
        "\n",
        "# Freeze all the layers before the `fine_tune_at` layer\n",
        "for layer in vgg16.layers[:unfreeze_from]:\n",
        "  layer.trainable = False"
      ],
      "metadata": {
        "id": "FOSnTWX82JGS"
      },
      "id": "FOSnTWX82JGS",
      "execution_count": 8,
      "outputs": []
    },
    {
      "cell_type": "code",
      "source": [
        "#Compile the model- adam optimizer, categorical_crossentropy loss, and set our metric to accuracy\n",
        "model6_vgg16.compile(optimizer='adam',\n",
        "                       loss='categorical_crossentropy',\n",
        "                       metrics=['accuracy'])\n",
        "\n",
        "# print model summary\n",
        "model6_vgg16.summary()"
      ],
      "metadata": {
        "colab": {
          "base_uri": "https://localhost:8080/"
        },
        "id": "KK9YA20e2mHj",
        "outputId": "fa9ddf60-4231-46f0-ac84-98769c08a270"
      },
      "id": "KK9YA20e2mHj",
      "execution_count": 9,
      "outputs": [
        {
          "output_type": "stream",
          "name": "stdout",
          "text": [
            "Model: \"sequential\"\n",
            "_________________________________________________________________\n",
            " Layer (type)                Output Shape              Param #   \n",
            "=================================================================\n",
            " vgg16 (Functional)          (None, 8, 8, 512)         14714688  \n",
            "                                                                 \n",
            " flatten (Flatten)           (None, 32768)             0         \n",
            "                                                                 \n",
            " dense (Dense)               (None, 512)               16777728  \n",
            "                                                                 \n",
            " dropout (Dropout)           (None, 512)               0         \n",
            "                                                                 \n",
            " dense_1 (Dense)             (None, 64)                32832     \n",
            "                                                                 \n",
            " dropout_1 (Dropout)         (None, 64)                0         \n",
            "                                                                 \n",
            " dense_2 (Dense)             (None, 10)                650       \n",
            "                                                                 \n",
            "=================================================================\n",
            "Total params: 31525898 (120.26 MB)\n",
            "Trainable params: 23890634 (91.14 MB)\n",
            "Non-trainable params: 7635264 (29.13 MB)\n",
            "_________________________________________________________________\n"
          ]
        }
      ]
    },
    {
      "cell_type": "code",
      "source": [
        "from keras.callbacks import CSVLogger"
      ],
      "metadata": {
        "id": "ozwLCPfU8nv_"
      },
      "id": "ozwLCPfU8nv_",
      "execution_count": 10,
      "outputs": []
    },
    {
      "cell_type": "code",
      "source": [
        "\n",
        "callback6 = [EarlyStopping(monitor='val_accuracy', mode='max', verbose = 1, patience = 7),\n",
        "               ModelCheckpoint(filepath='/content/drive/MyDrive/Project/model6_vgg16.h5',\n",
        "                               monitor='val_accuracy',\n",
        "                               save_best_only=True,\n",
        "                               mode='max')]\n",
        "\n",
        "csv_logger = CSVLogger('/content/drive/MyDrive/Project/training_history.csv')\n",
        "\n",
        "model6_vgg16_history = model6_vgg16.fit(train_generator,\n",
        "                                  epochs= 30,\n",
        "                                  validation_data = val_generator,\n",
        "                                  callbacks= [callback6, csv_logger],\n",
        "                                  batch_size=128,\n",
        "                                  verbose = 1)"
      ],
      "metadata": {
        "colab": {
          "base_uri": "https://localhost:8080/"
        },
        "id": "wh5WMcb-2yJK",
        "outputId": "ecbe258f-2c20-414c-9c3c-cba16039432b"
      },
      "id": "wh5WMcb-2yJK",
      "execution_count": 11,
      "outputs": [
        {
          "output_type": "stream",
          "name": "stdout",
          "text": [
            "Epoch 1/30\n",
            "144/144 [==============================] - 7225s 50s/step - loss: 2.1594 - accuracy: 0.1845 - val_loss: 1.8456 - val_accuracy: 0.3244\n",
            "Epoch 2/30\n",
            "144/144 [==============================] - 145s 996ms/step - loss: 1.6046 - accuracy: 0.4017 - val_loss: 1.2328 - val_accuracy: 0.5691\n",
            "Epoch 3/30\n",
            "144/144 [==============================] - 141s 973ms/step - loss: 1.0438 - accuracy: 0.6351 - val_loss: 0.7546 - val_accuracy: 0.7407\n",
            "Epoch 4/30\n",
            "144/144 [==============================] - 143s 987ms/step - loss: 0.7456 - accuracy: 0.7451 - val_loss: 0.5936 - val_accuracy: 0.7889\n",
            "Epoch 5/30\n",
            "144/144 [==============================] - 144s 995ms/step - loss: 0.6334 - accuracy: 0.7878 - val_loss: 0.5933 - val_accuracy: 0.7969\n",
            "Epoch 6/30\n",
            "144/144 [==============================] - 141s 973ms/step - loss: 0.5172 - accuracy: 0.8288 - val_loss: 0.5126 - val_accuracy: 0.8225\n",
            "Epoch 7/30\n",
            "144/144 [==============================] - 141s 970ms/step - loss: 0.4377 - accuracy: 0.8560 - val_loss: 0.4405 - val_accuracy: 0.8500\n",
            "Epoch 8/30\n",
            "144/144 [==============================] - 144s 995ms/step - loss: 0.3806 - accuracy: 0.8761 - val_loss: 0.4622 - val_accuracy: 0.8509\n",
            "Epoch 9/30\n",
            "144/144 [==============================] - 145s 1s/step - loss: 0.3428 - accuracy: 0.8873 - val_loss: 0.3919 - val_accuracy: 0.8769\n",
            "Epoch 10/30\n",
            "144/144 [==============================] - 142s 986ms/step - loss: 0.2938 - accuracy: 0.9050 - val_loss: 0.4124 - val_accuracy: 0.8843\n",
            "Epoch 11/30\n",
            "144/144 [==============================] - 138s 954ms/step - loss: 0.2804 - accuracy: 0.9092 - val_loss: 0.4408 - val_accuracy: 0.8719\n",
            "Epoch 12/30\n",
            "144/144 [==============================] - 144s 998ms/step - loss: 0.2482 - accuracy: 0.9185 - val_loss: 0.3770 - val_accuracy: 0.8957\n",
            "Epoch 13/30\n",
            "144/144 [==============================] - 138s 953ms/step - loss: 0.2194 - accuracy: 0.9264 - val_loss: 0.4703 - val_accuracy: 0.8750\n",
            "Epoch 14/30\n",
            "144/144 [==============================] - 137s 951ms/step - loss: 0.2076 - accuracy: 0.9338 - val_loss: 0.4330 - val_accuracy: 0.8781\n",
            "Epoch 15/30\n",
            "144/144 [==============================] - 137s 948ms/step - loss: 0.1877 - accuracy: 0.9394 - val_loss: 0.4949 - val_accuracy: 0.8806\n",
            "Epoch 16/30\n",
            "144/144 [==============================] - 145s 1s/step - loss: 0.1916 - accuracy: 0.9392 - val_loss: 0.3814 - val_accuracy: 0.9015\n",
            "Epoch 17/30\n",
            "144/144 [==============================] - 138s 951ms/step - loss: 0.1778 - accuracy: 0.9435 - val_loss: 0.4025 - val_accuracy: 0.8957\n",
            "Epoch 18/30\n",
            "144/144 [==============================] - 138s 955ms/step - loss: 0.1486 - accuracy: 0.9531 - val_loss: 0.4503 - val_accuracy: 0.8892\n",
            "Epoch 19/30\n",
            "144/144 [==============================] - 137s 949ms/step - loss: 0.1503 - accuracy: 0.9520 - val_loss: 0.4807 - val_accuracy: 0.8944\n",
            "Epoch 20/30\n",
            "144/144 [==============================] - 137s 947ms/step - loss: 0.1346 - accuracy: 0.9571 - val_loss: 0.5073 - val_accuracy: 0.8827\n",
            "Epoch 21/30\n",
            "144/144 [==============================] - 138s 957ms/step - loss: 0.1481 - accuracy: 0.9547 - val_loss: 0.4349 - val_accuracy: 0.8991\n",
            "Epoch 22/30\n",
            "144/144 [==============================] - 137s 951ms/step - loss: 0.1042 - accuracy: 0.9661 - val_loss: 0.5231 - val_accuracy: 0.8738\n",
            "Epoch 23/30\n",
            "144/144 [==============================] - 138s 952ms/step - loss: 0.1129 - accuracy: 0.9641 - val_loss: 0.5258 - val_accuracy: 0.8852\n",
            "Epoch 23: early stopping\n"
          ]
        }
      ]
    },
    {
      "cell_type": "code",
      "source": [
        "from keras.models import load_model\n",
        "model6_vgg16 = load_model('/content/drive/MyDrive/Project/model6_vgg16.h5')"
      ],
      "metadata": {
        "id": "nAKxpVoRPvOo"
      },
      "id": "nAKxpVoRPvOo",
      "execution_count": null,
      "outputs": []
    },
    {
      "cell_type": "code",
      "source": [
        "# Check loss and accuracy on test data\n",
        "test_loss, test_acc = model6_vgg16.evaluate(test_generator, verbose = 1)\n",
        "\n",
        "print('Test loss: ', test_loss)\n",
        "print('Test accuracy: ', test_acc)"
      ],
      "metadata": {
        "colab": {
          "base_uri": "https://localhost:8080/"
        },
        "id": "qgZU-5GCCBpC",
        "outputId": "2cd883db-a2b3-411c-abc9-b3a02530320f"
      },
      "id": "qgZU-5GCCBpC",
      "execution_count": null,
      "outputs": [
        {
          "output_type": "stream",
          "name": "stdout",
          "text": [
            " 3/43 [=>............................] - ETA: 1:07:55 - loss: 0.3492 - accuracy: 0.8984"
          ]
        }
      ]
    },
    {
      "cell_type": "code",
      "source": [
        "#Plot training and validation results of final VGG16 model with fine tuning\n",
        "def training_results(results):\n",
        "    history = results.history\n",
        "    plt.figure()\n",
        "    plt.plot(history['val_loss'])\n",
        "    plt.plot(history['loss'])\n",
        "    plt.legend(['val_loss', 'train_loss'])\n",
        "    plt.title('Final Model-Loss')\n",
        "    plt.xlabel('Epochs')\n",
        "    plt.ylabel('Loss')\n",
        "    plt.show()\n",
        "\n",
        "    plt.figure()\n",
        "    plt.plot(history['val_accuracy'])\n",
        "    plt.plot(history['accuracy'])\n",
        "    plt.legend(['val_accuracy', 'train_accuracy'])\n",
        "    plt.title('Final Model-Accuracy')\n",
        "    plt.xlabel('Epochs')\n",
        "    plt.ylabel('Accuracy')\n",
        "    plt.show()"
      ],
      "metadata": {
        "id": "yIQr0ySK7mEL"
      },
      "id": "yIQr0ySK7mEL",
      "execution_count": 12,
      "outputs": []
    },
    {
      "cell_type": "code",
      "source": [
        "training_results(model6_vgg16_history)"
      ],
      "metadata": {
        "id": "BOVjeRQS7s1R",
        "colab": {
          "base_uri": "https://localhost:8080/",
          "height": 927
        },
        "outputId": "e6dc825a-fc25-4234-be7f-2c619667334e"
      },
      "id": "BOVjeRQS7s1R",
      "execution_count": 13,
      "outputs": [
        {
          "output_type": "display_data",
          "data": {
            "text/plain": [
              "<Figure size 640x480 with 1 Axes>"
            ],
            "image/png": "[encoded data removed]"
          },
          "metadata": {}
        },
        {
          "output_type": "display_data",
          "data": {
            "text/plain": [
              "<Figure size 640x480 with 1 Axes>"
            ],
            "image/png": "[encoded data removed]"
          },
          "metadata": {}
        }
      ]
    }
  ],
  "metadata": {
    "accelerator": "GPU",
    "colab": {
      "collapsed_sections": [
        "pz0ua8EvYVIj",
        "5f64bf08-4c6a-499c-9ddf-4d1ec70595c7",
        "5d696532-1281-4ac6-8c55-32ed5253f78c",
        "ce782a22-0cac-4208-95bf-cb8e34ba761a",
        "41d96835-1d6d-4d2f-ac6c-2234dc4e7c00",
        "b58c5e82-ba1d-4004-9a41-1299c0a1c41f",
        "9c507fcd-ed17-40ea-994c-1955c9bfe8c9",
        "4fd79eb5-10cd-4e6f-8151-f52676264c34",
        "ZxPHmdwmDxQz",
        "IFtPt7zoUcke",
        "GoqoUyGdFJhp"
      ],
      "provenance": [],
      "gpuType": "T4"
    },
    "kernelspec": {
      "display_name": "Python 3",
      "name": "python3"
    },
    "language_info": {
      "codemirror_mode": {
        "name": "ipython",
        "version": 3
      },
      "file_extension": ".py",
      "mimetype": "text/x-python",
      "name": "python",
      "nbconvert_exporter": "python",
      "pygments_lexer": "ipython3",
      "version": "3.11.4"
    }
  },
  "nbformat": 4,
  "nbformat_minor": 5
}